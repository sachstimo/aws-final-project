{
 "cells": [
  {
   "cell_type": "markdown",
   "id": "cfcfc4f8",
   "metadata": {},
   "source": [
    "# Telco Churn in Sagemaker - Optimized Profit Function (XGBoost)"
   ]
  },
  {
   "cell_type": "code",
   "execution_count": 1,
   "id": "0c928ba2",
   "metadata": {},
   "outputs": [],
   "source": [
    "bucket='telco-churn-cp' "
   ]
  },
  {
   "cell_type": "markdown",
   "id": "425ba06e",
   "metadata": {},
   "source": [
    "## Section 1: Setup of Environment"
   ]
  },
  {
   "cell_type": "markdown",
   "id": "de92e921",
   "metadata": {},
   "source": [
    "### Step 1A: Importing Libraries"
   ]
  },
  {
   "cell_type": "code",
   "execution_count": 2,
   "id": "562172c8",
   "metadata": {},
   "outputs": [
    {
     "data": {
      "text/html": [
       "<pre style=\"white-space:pre;overflow-x:auto;line-height:normal;font-family:Menlo,'DejaVu Sans Mono',consolas,'Courier New',monospace\"><span style=\"color: #7fbfbf; text-decoration-color: #7fbfbf\">[04/07/25 00:13:43] </span><span style=\"color: #0069ff; text-decoration-color: #0069ff; font-weight: bold\">INFO    </span> Found credentials from IAM Role:                                   <a href=\"file:///home/ec2-user/anaconda3/envs/python3/lib/python3.10/site-packages/botocore/credentials.py\" target=\"_blank\"><span style=\"color: #7f7f7f; text-decoration-color: #7f7f7f\">credentials.py</span></a><span style=\"color: #7f7f7f; text-decoration-color: #7f7f7f\">:</span><a href=\"file:///home/ec2-user/anaconda3/envs/python3/lib/python3.10/site-packages/botocore/credentials.py#1132\" target=\"_blank\"><span style=\"color: #7f7f7f; text-decoration-color: #7f7f7f\">1132</span></a>\n",
       "<span style=\"color: #7fbfbf; text-decoration-color: #7fbfbf\">                    </span>         BaseNotebookInstanceEc2InstanceRole                                <span style=\"color: #7f7f7f; text-decoration-color: #7f7f7f\">                   </span>\n",
       "</pre>\n"
      ],
      "text/plain": [
       "\u001b[2;36m[04/07/25 00:13:43]\u001b[0m\u001b[2;36m \u001b[0m\u001b[1;38;2;0;105;255mINFO    \u001b[0m Found credentials from IAM Role:                                   \u001b]8;id=312473;file:///home/ec2-user/anaconda3/envs/python3/lib/python3.10/site-packages/botocore/credentials.py\u001b\\\u001b[2mcredentials.py\u001b[0m\u001b]8;;\u001b\\\u001b[2m:\u001b[0m\u001b]8;id=427532;file:///home/ec2-user/anaconda3/envs/python3/lib/python3.10/site-packages/botocore/credentials.py#1132\u001b\\\u001b[2m1132\u001b[0m\u001b]8;;\u001b\\\n",
       "\u001b[2;36m                    \u001b[0m         BaseNotebookInstanceEc2InstanceRole                                \u001b[2m                   \u001b[0m\n"
      ]
     },
     "metadata": {},
     "output_type": "display_data"
    },
    {
     "name": "stdout",
     "output_type": "stream",
     "text": [
      "sagemaker.config INFO - Not applying SDK defaults from location: /etc/xdg/sagemaker/config.yaml\n",
      "sagemaker.config INFO - Not applying SDK defaults from location: /home/ec2-user/.config/sagemaker/config.yaml\n"
     ]
    }
   ],
   "source": [
    "import time\n",
    "start = time.time()\n",
    "import warnings, requests, zipfile, io\n",
    "warnings.simplefilter('ignore')\n",
    "import pandas as pd\n",
    "import numpy as np\n",
    "import pickle\n",
    "import io\n",
    "\n",
    "import os\n",
    "import boto3\n",
    "import sagemaker\n",
    "from sagemaker.image_uris import retrieve\n",
    "from sklearn.model_selection import train_test_split\n",
    "\n",
    "from sklearn.metrics import roc_auc_score, roc_curve, auc, confusion_matrix, make_scorer\n",
    "import seaborn as sns\n",
    "import matplotlib.pyplot as plt\n",
    "from sagemaker.tuner import IntegerParameter, CategoricalParameter, ContinuousParameter, HyperparameterTuner\n",
    "from sagemaker.analytics import HyperparameterTuningJobAnalytics\n",
    "from sagemaker.estimator import Estimator\n"
   ]
  },
  {
   "cell_type": "markdown",
   "id": "042cf631",
   "metadata": {},
   "source": [
    "### Step 1B: Loading the Data"
   ]
  },
  {
   "cell_type": "code",
   "execution_count": 3,
   "id": "fd44c3b1",
   "metadata": {},
   "outputs": [
    {
     "data": {
      "text/html": [
       "<pre style=\"white-space:pre;overflow-x:auto;line-height:normal;font-family:Menlo,'DejaVu Sans Mono',consolas,'Courier New',monospace\"><span style=\"color: #7fbfbf; text-decoration-color: #7fbfbf\">[04/07/25 00:13:45] </span><span style=\"color: #0069ff; text-decoration-color: #0069ff; font-weight: bold\">INFO    </span> Found credentials from IAM Role:                                   <a href=\"file:///home/ec2-user/anaconda3/envs/python3/lib/python3.10/site-packages/botocore/credentials.py\" target=\"_blank\"><span style=\"color: #7f7f7f; text-decoration-color: #7f7f7f\">credentials.py</span></a><span style=\"color: #7f7f7f; text-decoration-color: #7f7f7f\">:</span><a href=\"file:///home/ec2-user/anaconda3/envs/python3/lib/python3.10/site-packages/botocore/credentials.py#1132\" target=\"_blank\"><span style=\"color: #7f7f7f; text-decoration-color: #7f7f7f\">1132</span></a>\n",
       "<span style=\"color: #7fbfbf; text-decoration-color: #7fbfbf\">                    </span>         BaseNotebookInstanceEc2InstanceRole                                <span style=\"color: #7f7f7f; text-decoration-color: #7f7f7f\">                   </span>\n",
       "</pre>\n"
      ],
      "text/plain": [
       "\u001b[2;36m[04/07/25 00:13:45]\u001b[0m\u001b[2;36m \u001b[0m\u001b[1;38;2;0;105;255mINFO    \u001b[0m Found credentials from IAM Role:                                   \u001b]8;id=823344;file:///home/ec2-user/anaconda3/envs/python3/lib/python3.10/site-packages/botocore/credentials.py\u001b\\\u001b[2mcredentials.py\u001b[0m\u001b]8;;\u001b\\\u001b[2m:\u001b[0m\u001b]8;id=907742;file:///home/ec2-user/anaconda3/envs/python3/lib/python3.10/site-packages/botocore/credentials.py#1132\u001b\\\u001b[2m1132\u001b[0m\u001b]8;;\u001b\\\n",
       "\u001b[2;36m                    \u001b[0m         BaseNotebookInstanceEc2InstanceRole                                \u001b[2m                   \u001b[0m\n"
      ]
     },
     "metadata": {},
     "output_type": "display_data"
    },
    {
     "data": {
      "text/html": [
       "<div>\n",
       "<style scoped>\n",
       "    .dataframe tbody tr th:only-of-type {\n",
       "        vertical-align: middle;\n",
       "    }\n",
       "\n",
       "    .dataframe tbody tr th {\n",
       "        vertical-align: top;\n",
       "    }\n",
       "\n",
       "    .dataframe thead th {\n",
       "        text-align: right;\n",
       "    }\n",
       "</style>\n",
       "<table border=\"1\" class=\"dataframe\">\n",
       "  <thead>\n",
       "    <tr style=\"text-align: right;\">\n",
       "      <th></th>\n",
       "      <th>Churn</th>\n",
       "      <th>ohe__Gender_Female</th>\n",
       "      <th>ohe__Gender_Male</th>\n",
       "      <th>contract_ord__Contract</th>\n",
       "      <th>internet_ord__Internet Type</th>\n",
       "      <th>service_ord__Service_Level</th>\n",
       "      <th>scaler__Age</th>\n",
       "      <th>scaler__Avg Monthly GB Download</th>\n",
       "      <th>scaler__Avg Monthly Long Distance Charges</th>\n",
       "      <th>scaler__Number of Dependents</th>\n",
       "      <th>...</th>\n",
       "      <th>remainder__Paperless Billing</th>\n",
       "      <th>remainder__Partner</th>\n",
       "      <th>remainder__Phone Service</th>\n",
       "      <th>remainder__Premium Tech Support</th>\n",
       "      <th>remainder__Streaming Movies</th>\n",
       "      <th>remainder__Streaming Music</th>\n",
       "      <th>remainder__Streaming TV</th>\n",
       "      <th>remainder__Unlimited Data</th>\n",
       "      <th>remainder__Refunds Awarded</th>\n",
       "      <th>remainder__Phone_Bundle</th>\n",
       "    </tr>\n",
       "  </thead>\n",
       "  <tbody>\n",
       "    <tr>\n",
       "      <th>0</th>\n",
       "      <td>0</td>\n",
       "      <td>1.0</td>\n",
       "      <td>0.0</td>\n",
       "      <td>0.289021</td>\n",
       "      <td>-0.628053</td>\n",
       "      <td>0.302288</td>\n",
       "      <td>-0.448364</td>\n",
       "      <td>0.415555</td>\n",
       "      <td>-0.262119</td>\n",
       "      <td>2.629292</td>\n",
       "      <td>...</td>\n",
       "      <td>0.0</td>\n",
       "      <td>1.0</td>\n",
       "      <td>1.0</td>\n",
       "      <td>0.0</td>\n",
       "      <td>0.0</td>\n",
       "      <td>0.0</td>\n",
       "      <td>1.0</td>\n",
       "      <td>1.0</td>\n",
       "      <td>0.0</td>\n",
       "      <td>0.0</td>\n",
       "    </tr>\n",
       "    <tr>\n",
       "      <th>1</th>\n",
       "      <td>0</td>\n",
       "      <td>0.0</td>\n",
       "      <td>1.0</td>\n",
       "      <td>-0.889657</td>\n",
       "      <td>1.018161</td>\n",
       "      <td>1.487710</td>\n",
       "      <td>1.700997</td>\n",
       "      <td>0.072712</td>\n",
       "      <td>0.681105</td>\n",
       "      <td>-0.486835</td>\n",
       "      <td>...</td>\n",
       "      <td>1.0</td>\n",
       "      <td>1.0</td>\n",
       "      <td>1.0</td>\n",
       "      <td>1.0</td>\n",
       "      <td>0.0</td>\n",
       "      <td>0.0</td>\n",
       "      <td>1.0</td>\n",
       "      <td>1.0</td>\n",
       "      <td>0.0</td>\n",
       "      <td>1.0</td>\n",
       "    </tr>\n",
       "    <tr>\n",
       "      <th>2</th>\n",
       "      <td>0</td>\n",
       "      <td>1.0</td>\n",
       "      <td>0.0</td>\n",
       "      <td>1.467699</td>\n",
       "      <td>1.018161</td>\n",
       "      <td>1.487710</td>\n",
       "      <td>1.223361</td>\n",
       "      <td>-0.319109</td>\n",
       "      <td>-0.841519</td>\n",
       "      <td>-0.486835</td>\n",
       "      <td>...</td>\n",
       "      <td>1.0</td>\n",
       "      <td>1.0</td>\n",
       "      <td>1.0</td>\n",
       "      <td>1.0</td>\n",
       "      <td>1.0</td>\n",
       "      <td>1.0</td>\n",
       "      <td>1.0</td>\n",
       "      <td>1.0</td>\n",
       "      <td>0.0</td>\n",
       "      <td>0.0</td>\n",
       "    </tr>\n",
       "    <tr>\n",
       "      <th>3</th>\n",
       "      <td>0</td>\n",
       "      <td>0.0</td>\n",
       "      <td>1.0</td>\n",
       "      <td>-0.889657</td>\n",
       "      <td>-0.628053</td>\n",
       "      <td>0.302288</td>\n",
       "      <td>0.029272</td>\n",
       "      <td>-0.661952</td>\n",
       "      <td>0.756201</td>\n",
       "      <td>-0.486835</td>\n",
       "      <td>...</td>\n",
       "      <td>1.0</td>\n",
       "      <td>1.0</td>\n",
       "      <td>1.0</td>\n",
       "      <td>1.0</td>\n",
       "      <td>0.0</td>\n",
       "      <td>0.0</td>\n",
       "      <td>1.0</td>\n",
       "      <td>1.0</td>\n",
       "      <td>0.0</td>\n",
       "      <td>0.0</td>\n",
       "    </tr>\n",
       "    <tr>\n",
       "      <th>4</th>\n",
       "      <td>0</td>\n",
       "      <td>1.0</td>\n",
       "      <td>0.0</td>\n",
       "      <td>0.289021</td>\n",
       "      <td>-1.451160</td>\n",
       "      <td>-0.883133</td>\n",
       "      <td>-1.523045</td>\n",
       "      <td>-1.004796</td>\n",
       "      <td>-0.807208</td>\n",
       "      <td>-0.486835</td>\n",
       "      <td>...</td>\n",
       "      <td>1.0</td>\n",
       "      <td>1.0</td>\n",
       "      <td>1.0</td>\n",
       "      <td>0.0</td>\n",
       "      <td>0.0</td>\n",
       "      <td>0.0</td>\n",
       "      <td>0.0</td>\n",
       "      <td>0.0</td>\n",
       "      <td>0.0</td>\n",
       "      <td>0.0</td>\n",
       "    </tr>\n",
       "  </tbody>\n",
       "</table>\n",
       "<p>5 rows × 30 columns</p>\n",
       "</div>"
      ],
      "text/plain": [
       "   Churn  ohe__Gender_Female  ohe__Gender_Male  contract_ord__Contract  \\\n",
       "0      0                 1.0               0.0                0.289021   \n",
       "1      0                 0.0               1.0               -0.889657   \n",
       "2      0                 1.0               0.0                1.467699   \n",
       "3      0                 0.0               1.0               -0.889657   \n",
       "4      0                 1.0               0.0                0.289021   \n",
       "\n",
       "   internet_ord__Internet Type  service_ord__Service_Level  scaler__Age  \\\n",
       "0                    -0.628053                    0.302288    -0.448364   \n",
       "1                     1.018161                    1.487710     1.700997   \n",
       "2                     1.018161                    1.487710     1.223361   \n",
       "3                    -0.628053                    0.302288     0.029272   \n",
       "4                    -1.451160                   -0.883133    -1.523045   \n",
       "\n",
       "   scaler__Avg Monthly GB Download  scaler__Avg Monthly Long Distance Charges  \\\n",
       "0                         0.415555                                  -0.262119   \n",
       "1                         0.072712                                   0.681105   \n",
       "2                        -0.319109                                  -0.841519   \n",
       "3                        -0.661952                                   0.756201   \n",
       "4                        -1.004796                                  -0.807208   \n",
       "\n",
       "   scaler__Number of Dependents  ...  remainder__Paperless Billing  \\\n",
       "0                      2.629292  ...                           0.0   \n",
       "1                     -0.486835  ...                           1.0   \n",
       "2                     -0.486835  ...                           1.0   \n",
       "3                     -0.486835  ...                           1.0   \n",
       "4                     -0.486835  ...                           1.0   \n",
       "\n",
       "   remainder__Partner  remainder__Phone Service  \\\n",
       "0                 1.0                       1.0   \n",
       "1                 1.0                       1.0   \n",
       "2                 1.0                       1.0   \n",
       "3                 1.0                       1.0   \n",
       "4                 1.0                       1.0   \n",
       "\n",
       "   remainder__Premium Tech Support  remainder__Streaming Movies  \\\n",
       "0                              0.0                          0.0   \n",
       "1                              1.0                          0.0   \n",
       "2                              1.0                          1.0   \n",
       "3                              1.0                          0.0   \n",
       "4                              0.0                          0.0   \n",
       "\n",
       "   remainder__Streaming Music  remainder__Streaming TV  \\\n",
       "0                         0.0                      1.0   \n",
       "1                         0.0                      1.0   \n",
       "2                         1.0                      1.0   \n",
       "3                         0.0                      1.0   \n",
       "4                         0.0                      0.0   \n",
       "\n",
       "   remainder__Unlimited Data  remainder__Refunds Awarded  \\\n",
       "0                        1.0                         0.0   \n",
       "1                        1.0                         0.0   \n",
       "2                        1.0                         0.0   \n",
       "3                        1.0                         0.0   \n",
       "4                        0.0                         0.0   \n",
       "\n",
       "   remainder__Phone_Bundle  \n",
       "0                      0.0  \n",
       "1                      1.0  \n",
       "2                      0.0  \n",
       "3                      0.0  \n",
       "4                      0.0  \n",
       "\n",
       "[5 rows x 30 columns]"
      ]
     },
     "execution_count": 3,
     "metadata": {},
     "output_type": "execute_result"
    }
   ],
   "source": [
    "# Define S3 bucket and object key\n",
    "s3_bucket = bucket  # References existing bucket variable from your template\n",
    "s3_key = 'df_for_sm.csv'  # Path to your data file in the bucket root\n",
    "\n",
    "# Create S3 client and download the file\n",
    "s3 = boto3.client('s3')  # Initialize S3 client with AWS credentials\n",
    "obj = s3.get_object(Bucket=s3_bucket, Key=s3_key)  # Retrieve the S3 object\n",
    "data = obj['Body'].read()  # Read file content as bytes\n",
    "\n",
    "\n",
    "# Load data into a DataFrame\n",
    "df = pd.read_csv(io.BytesIO(data))  # Convert bytes to file-like object and read as CSV\n",
    "df.head()"
   ]
  },
  {
   "cell_type": "code",
   "execution_count": 4,
   "id": "eda849d7",
   "metadata": {},
   "outputs": [
    {
     "name": "stdout",
     "output_type": "stream",
     "text": [
      "\n",
      "===== COLUMN CHECK =====\n",
      "Available columns: ['Churn', 'ohe__Gender_Female', 'ohe__Gender_Male', 'contract_ord__Contract', 'internet_ord__Internet Type', 'service_ord__Service_Level', 'scaler__Age', 'scaler__Avg Monthly GB Download', 'scaler__Avg Monthly Long Distance Charges', 'scaler__Number of Dependents', 'scaler__Population', 'scaler__Satisfaction Score', 'scaler__Tenure in Months', 'scaler__Total Extra Data Charges', 'scaler__Monthly charge/CLTV', 'remainder__Device Protection Plan', 'remainder__Internet Service', 'remainder__Multiple Lines', 'remainder__Online Backup', 'remainder__Online Security', 'remainder__Paperless Billing', 'remainder__Partner', 'remainder__Phone Service', 'remainder__Premium Tech Support', 'remainder__Streaming Movies', 'remainder__Streaming Music', 'remainder__Streaming TV', 'remainder__Unlimited Data', 'remainder__Refunds Awarded', 'remainder__Phone_Bundle']\n",
      "'scaler__Monthly charge/CLTV' in columns: True\n",
      "Similar columns: ['scaler__Avg Monthly Long Distance Charges', 'scaler__Total Extra Data Charges', 'scaler__Monthly charge/CLTV']\n"
     ]
    }
   ],
   "source": [
    "print(\"\\n===== COLUMN CHECK =====\")\n",
    "print(f\"Available columns: {df.columns.tolist()}\")\n",
    "print(f\"'scaler__Monthly charge/CLTV' in columns: {'scaler__Monthly charge/CLTV' in df.columns}\")\n",
    "# Try to find similar column names\n",
    "similar_columns = [col for col in df.columns if 'cltv' in col.lower() or 'charge' in col.lower()]\n",
    "print(f\"Similar columns: {similar_columns}\")"
   ]
  },
  {
   "cell_type": "code",
   "execution_count": 5,
   "id": "563ee51c",
   "metadata": {},
   "outputs": [
    {
     "name": "stdout",
     "output_type": "stream",
     "text": [
      "Loaded average_cltv from S3 root: $4400.295754650007\n",
      "Average CLTV value to use in profit calculations: $4400.295754650007\n"
     ]
    }
   ],
   "source": [
    "# Import average_cltv from S3\n",
    "\n",
    "try:\n",
    "    # Read average_cltv from S3 bucket\n",
    "    s3_client = boto3.client('s3')\n",
    "    try:\n",
    "        # First try to read from root of bucket\n",
    "        cltv_obj = s3_client.get_object(Bucket=bucket, Key='average_cltv.pkl')\n",
    "        average_cltv = pickle.load(cltv_obj['Body'])\n",
    "        print(f\"Loaded average_cltv from S3 root: ${average_cltv}\")\n",
    "    except:\n",
    "        try:\n",
    "            # If not in root, try in folders directory\n",
    "            cltv_obj = s3_client.get_object(Bucket=bucket, Key=f'{prefix}/average_cltv.pkl')\n",
    "            average_cltv = pickle.load(cltv_obj['Body'])\n",
    "            print(f\"Loaded average_cltv from S3 folders path: ${average_cltv}\")\n",
    "        except:\n",
    "            # Default to a business value if file doesn't exist in either location\n",
    "            average_cltv = 1000  # Set this to your actual average CLTV value\n",
    "            print(f\"No average_cltv file found in S3, using default: ${average_cltv}\")\n",
    "except Exception as e:\n",
    "    # Default to a business value if any error occurs\n",
    "    average_cltv = 1000  # Set this to your actual average CLTV value\n",
    "    print(f\"Error loading average_cltv from S3: {e}\")\n",
    "    print(f\"Using default average_cltv: ${average_cltv}\")\n",
    "\n",
    "# inspect average_cltv\n",
    "print(f\"Average CLTV value to use in profit calculations: ${average_cltv}\")"
   ]
  },
  {
   "cell_type": "markdown",
   "id": "b5ade2a0",
   "metadata": {},
   "source": [
    "### Step 1C: Defining Necessary Functions"
   ]
  },
  {
   "cell_type": "code",
   "execution_count": 6,
   "id": "1227a1f6",
   "metadata": {},
   "outputs": [],
   "source": [
    "# plot_roc function to plot ROC curve and calculate metrics\n",
    "def plot_roc(test_labels, target_predicted_binary):\n",
    "    TN, FP, FN, TP = confusion_matrix(test_labels, target_predicted_binary).ravel()\n",
    "    # Sensitivity, hit rate, recall, or true positive rate\n",
    "    Sensitivity  = float(TP)/(TP+FN)*100\n",
    "    # Specificity or true negative rate\n",
    "    Specificity  = float(TN)/(TN+FP)*100\n",
    "    # Precision or positive predictive value\n",
    "    Precision = float(TP)/(TP+FP)*100\n",
    "    # Negative predictive value\n",
    "    NPV = float(TN)/(TN+FN)*100\n",
    "    # Fall out or false positive rate\n",
    "    FPR = float(FP)/(FP+TN)*100\n",
    "    # False negative rate\n",
    "    FNR = float(FN)/(TP+FN)*100\n",
    "    # False discovery rate\n",
    "    FDR = float(FP)/(TP+FP)*100\n",
    "    # Overall accuracy\n",
    "    ACC = float(TP+TN)/(TP+FP+FN+TN)*100\n",
    "\n",
    "    print(f\"Sensitivity or TPR: {Sensitivity}%\")    \n",
    "    print(f\"Specificity or TNR: {Specificity}%\") \n",
    "    print(f\"Precision: {Precision}%\")   \n",
    "    print(f\"Negative Predictive Value: {NPV}%\")  \n",
    "    print( f\"False Positive Rate: {FPR}%\") \n",
    "    print(f\"False Negative Rate: {FNR}%\")  \n",
    "    print(f\"False Discovery Rate: {FDR}%\" )\n",
    "    print(f\"Accuracy: {ACC}%\") \n",
    "\n",
    "    print(\"Validation AUC\", roc_auc_score(test_labels, target_predicted_binary) )\n",
    "\n",
    "    fpr, tpr, thresholds = roc_curve(test_labels, target_predicted_binary)\n",
    "    roc_auc = auc(fpr, tpr)\n",
    "\n",
    "    plt.figure()\n",
    "    plt.plot(fpr, tpr, label='ROC curve (area = %0.2f)' % (roc_auc))\n",
    "    plt.plot([0, 1], [0, 1], 'k--')\n",
    "    plt.xlim([0.0, 1.0])\n",
    "    plt.ylim([0.0, 1.05])\n",
    "    plt.xlabel('False Positive Rate')\n",
    "    plt.ylabel('True Positive Rate')\n",
    "    plt.title('Receiver operating characteristic')\n",
    "    plt.legend(loc=\"lower right\")\n",
    "\n",
    "    # Filter out non-finite values before setting limits\n",
    "    valid_indices = np.isfinite(thresholds)\n",
    "    if any(valid_indices):\n",
    "        filtered_fpr = fpr[valid_indices]\n",
    "        filtered_thresholds = thresholds[valid_indices]\n",
    "        if len(filtered_thresholds) > 1:\n",
    "            # create the axis of thresholds (scores)\n",
    "            ax2 = plt.gca().twinx()\n",
    "            ax2.plot(filtered_fpr, filtered_thresholds, markeredgecolor='r', linestyle='dashed', color='r')\n",
    "            ax2.set_ylabel('Threshold', color='r')\n",
    "            ax2.set_ylim([min(filtered_thresholds), max(filtered_thresholds)])\n",
    "            ax2.set_xlim([min(filtered_fpr), max(filtered_fpr)])\n",
    "    \n",
    "    plt.show()\n",
    "\n",
    "def plot_confusion_matrix(test_labels, target_predicted):\n",
    "    matrix = confusion_matrix(test_labels, target_predicted)\n",
    "    df_confusion = pd.DataFrame(matrix)\n",
    "    colormap = sns.color_palette(\"BrBG\", 10)\n",
    "    sns.heatmap(df_confusion, annot=True, fmt='.2f', cbar=None, cmap=colormap)\n",
    "    plt.title(\"Confusion Matrix\")\n",
    "    plt.tight_layout()\n",
    "    plt.ylabel(\"True Class\")\n",
    "    plt.xlabel(\"Predicted Class\")\n",
    "    plt.show()"
   ]
  },
  {
   "cell_type": "code",
   "execution_count": 7,
   "id": "903f2cb4",
   "metadata": {},
   "outputs": [],
   "source": [
    "# Define a profit-based scoring function\n",
    "def profit_scorer(y_true, y_pred):\n",
    "    \"\"\"\n",
    "    Custom profit scoring function for telco churn:\n",
    "    - True Positive (correctly identified churner): (saved customer) average CLTV * 60% - CAC (10% of CLTV)\n",
    "    - False Positive (incorrectly flagged as churner): (cost of acquisition) average CLTV * 10%\n",
    "    - False Negative (missed churner): (lost customer value) $0\n",
    "    - True Negative (correctly identified non-churner): $0\n",
    "    \"\"\"\n",
    "    tn, fp, fn, tp = confusion_matrix(y_true, y_pred).ravel()\n",
    "        \n",
    "    # Calculate profit components\n",
    "    tp_profit = tp * (average_cltv * 0.6 - average_cltv * 0.1)  # 60% of CLTV minus 10% CAC\n",
    "    fp_cost = fp * (average_cltv * 0.1)  # Cost of acquisition (10% of CLTV)\n",
    "        \n",
    "    # Total profit (TN and FN contribute $0)\n",
    "    profit = tp_profit - fp_cost\n",
    "        \n",
    "    return profit\n",
    "\n",
    "# Create scorer for GridSearchCV\n",
    "profit_scorer_skl = make_scorer(profit_scorer)"
   ]
  },
  {
   "cell_type": "code",
   "execution_count": 8,
   "id": "d69ffa2c",
   "metadata": {},
   "outputs": [],
   "source": [
    "# Add function to find optimal threshold based on profit\n",
    "def find_optimal_threshold(y_true, y_pred_proba):\n",
    "    \"\"\"\n",
    "    Find the optimal threshold that maximizes profit\n",
    "    Returns the threshold and the profit at that threshold\n",
    "    \"\"\"\n",
    "    thresholds = np.linspace(0.01, 0.99, 99)\n",
    "    max_profit = -float('inf')\n",
    "    best_threshold = 0.5  # Default\n",
    "    \n",
    "    for threshold in thresholds:\n",
    "        y_pred_binary = (y_pred_proba > threshold).astype(int)\n",
    "        current_profit = profit_scorer(y_true, y_pred_binary)\n",
    "        \n",
    "        if current_profit > max_profit:\n",
    "            max_profit = current_profit\n",
    "            best_threshold = threshold\n",
    "    \n",
    "    print(f\"Optimal profit threshold: {best_threshold:.4f}, Profit: ${max_profit:.2f}\")\n",
    "    return best_threshold, max_profit\n",
    "\n",
    "# Function to evaluate profit metrics\n",
    "def evaluate_profit_metrics(y_true, y_pred_binary, y_pred_proba=None):\n",
    "    \"\"\"Calculate and print profit-based metrics\"\"\"\n",
    "    profit = profit_scorer(y_true, y_pred_binary)\n",
    "    tn, fp, fn, tp = confusion_matrix(y_true, y_pred_binary).ravel()\n",
    "    \n",
    "    # Calculate components\n",
    "    tp_profit = tp * (average_cltv * 0.6 - average_cltv * 0.1)\n",
    "    fp_cost = fp * (average_cltv * 0.1)\n",
    "    \n",
    "    print(f\"\\n===== Profit-Based Metrics =====\")\n",
    "    print(f\"Total Profit: ${profit:.2f}\")\n",
    "    print(f\"TP Profit (Saved Customers): ${tp_profit:.2f}\")\n",
    "    print(f\"FP Cost (Unnecessary Interventions): ${fp_cost:.2f}\")\n",
    "    print(f\"True Positives (Saved Customers): {tp}\")\n",
    "    print(f\"False Positives (Unnecessary Interventions): {fp}\")\n",
    "    \n",
    "    # If probabilities are provided, find optimal threshold\n",
    "    if y_pred_proba is not None:\n",
    "        best_threshold, max_profit = find_optimal_threshold(y_true, y_pred_proba)\n",
    "        return best_threshold, max_profit\n",
    "    \n",
    "    return None, profit"
   ]
  },
  {
   "cell_type": "markdown",
   "id": "d6547165",
   "metadata": {},
   "source": [
    "## Step 2: Folder name in S3 bucket"
   ]
  },
  {
   "cell_type": "code",
   "execution_count": 9,
   "id": "20339a48",
   "metadata": {},
   "outputs": [],
   "source": [
    "prefix='folders' "
   ]
  },
  {
   "cell_type": "markdown",
   "id": "f7b61ba5",
   "metadata": {},
   "source": [
    "## Step 3: Defining the S3 bucket and prefix"
   ]
  },
  {
   "cell_type": "code",
   "execution_count": 10,
   "id": "fe9f9c4c",
   "metadata": {},
   "outputs": [],
   "source": [
    "train, test_and_validate = train_test_split(df, test_size=0.2, random_state=42, stratify=df['Churn'])\n",
    "test, validate = train_test_split(test_and_validate, test_size=0.5, random_state=42, stratify=test_and_validate['Churn'])\n",
    "\n",
    "train_file='telco_train.csv'\n",
    "test_file='telco_test.csv'\n",
    "validate_file='telco_validate.csv'"
   ]
  },
  {
   "cell_type": "markdown",
   "id": "69a0fea9",
   "metadata": {},
   "source": [
    "## Step 4: Uploading the data to S3 bucket"
   ]
  },
  {
   "cell_type": "code",
   "execution_count": 11,
   "id": "13da8674",
   "metadata": {},
   "outputs": [
    {
     "data": {
      "text/html": [
       "<pre style=\"white-space:pre;overflow-x:auto;line-height:normal;font-family:Menlo,'DejaVu Sans Mono',consolas,'Courier New',monospace\"><span style=\"color: #7fbfbf; text-decoration-color: #7fbfbf\">[04/07/25 00:13:49] </span><span style=\"color: #0069ff; text-decoration-color: #0069ff; font-weight: bold\">INFO    </span> Found credentials from IAM Role:                                   <a href=\"file:///home/ec2-user/anaconda3/envs/python3/lib/python3.10/site-packages/botocore/credentials.py\" target=\"_blank\"><span style=\"color: #7f7f7f; text-decoration-color: #7f7f7f\">credentials.py</span></a><span style=\"color: #7f7f7f; text-decoration-color: #7f7f7f\">:</span><a href=\"file:///home/ec2-user/anaconda3/envs/python3/lib/python3.10/site-packages/botocore/credentials.py#1132\" target=\"_blank\"><span style=\"color: #7f7f7f; text-decoration-color: #7f7f7f\">1132</span></a>\n",
       "<span style=\"color: #7fbfbf; text-decoration-color: #7fbfbf\">                    </span>         BaseNotebookInstanceEc2InstanceRole                                <span style=\"color: #7f7f7f; text-decoration-color: #7f7f7f\">                   </span>\n",
       "</pre>\n"
      ],
      "text/plain": [
       "\u001b[2;36m[04/07/25 00:13:49]\u001b[0m\u001b[2;36m \u001b[0m\u001b[1;38;2;0;105;255mINFO    \u001b[0m Found credentials from IAM Role:                                   \u001b]8;id=363961;file:///home/ec2-user/anaconda3/envs/python3/lib/python3.10/site-packages/botocore/credentials.py\u001b\\\u001b[2mcredentials.py\u001b[0m\u001b]8;;\u001b\\\u001b[2m:\u001b[0m\u001b]8;id=75;file:///home/ec2-user/anaconda3/envs/python3/lib/python3.10/site-packages/botocore/credentials.py#1132\u001b\\\u001b[2m1132\u001b[0m\u001b]8;;\u001b\\\n",
       "\u001b[2;36m                    \u001b[0m         BaseNotebookInstanceEc2InstanceRole                                \u001b[2m                   \u001b[0m\n"
      ]
     },
     "metadata": {},
     "output_type": "display_data"
    }
   ],
   "source": [
    "s3_resource = boto3.Session().resource('s3')\n",
    "\n",
    "def upload_s3_csv(filename, folder, dataframe):\n",
    "    csv_buffer = io.StringIO()\n",
    "    dataframe.to_csv(csv_buffer, header=False, index=False )\n",
    "    s3_resource.Bucket(bucket).Object(os.path.join(prefix, folder, filename)).put(Body=csv_buffer.getvalue())"
   ]
  },
  {
   "cell_type": "code",
   "execution_count": 12,
   "id": "e99988be",
   "metadata": {},
   "outputs": [],
   "source": [
    "upload_s3_csv(train_file, 'train', train)\n",
    "upload_s3_csv(test_file, 'test', test)\n",
    "upload_s3_csv(validate_file, 'validate', validate)"
   ]
  },
  {
   "cell_type": "markdown",
   "id": "4aa25500",
   "metadata": {},
   "source": [
    "## Step 5: Define function for batch processing with real-time endpoint\n",
    "\n",
    "We set the batch size == 704, because the entire dataset has 7040 rows and the test dataset being 10% has 704 rows."
   ]
  },
  {
   "cell_type": "code",
   "execution_count": 13,
   "id": "adafe6b3",
   "metadata": {},
   "outputs": [],
   "source": [
    "def predict_and_store_in_s3(test_df, predictor, bucket, prefix, batch_size=704, exclude_cols=None):\n",
    "    \"\"\"\n",
    "    Process predictions in batches and store results in S3 (Change batch_size =5 if slow)\n",
    "    \"\"\"\n",
    "    # Create S3 client\n",
    "    s3 = boto3.client('s3')\n",
    "    \n",
    "    # Create copy and remove excluded columns\n",
    "    df_copy = test_df.copy()\n",
    "    if exclude_cols:\n",
    "        df_copy = df_copy.drop(columns=exclude_cols)\n",
    "    \n",
    "    # Store all predictions\n",
    "    all_predictions = []\n",
    "    \n",
    "    # Process in batches\n",
    "    for i in range(0, len(df_copy), batch_size):\n",
    "        batch = df_copy.iloc[i:min(i+batch_size, len(df_copy))]\n",
    "        \n",
    "        # Process each row in the batch\n",
    "        for _, row_data in batch.iterrows():\n",
    "            # Convert single row to DataFrame and then to CSV\n",
    "            row_df = pd.DataFrame([row_data])\n",
    "            csv_buffer = io.StringIO()\n",
    "            row_df.to_csv(csv_buffer, header=False, index=False)\n",
    "            row_csv = csv_buffer.getvalue()\n",
    "            \n",
    "            # Get prediction\n",
    "            try:\n",
    "                prediction = predictor.predict(row_csv)\n",
    "                # Extract the prediction value\n",
    "                pred_value = float(prediction)\n",
    "                all_predictions.append(pred_value)\n",
    "            except Exception as e:\n",
    "                print(f\"Error processing row: {e}\")\n",
    "                all_predictions.append(np.nan)\n",
    "        \n",
    "        # Optional: Add delay to avoid throttling\n",
    "        time.sleep(0.1)\n",
    "    \n",
    "    # Validate predictions\n",
    "    if all(np.isnan(all_predictions)):\n",
    "        print(\"Warning: All predictions failed, check endpoint functionality\")\n",
    "    \n",
    "    # Create output file\n",
    "    output_csv = '\\n'.join([str(p) for p in all_predictions])\n",
    "    \n",
    "    # Upload to S3\n",
    "    output_key = f\"{prefix}/batch-out/batch-in.csv\" # Changed to batch-in.csv in next round\n",
    "    try:\n",
    "        s3.put_object(\n",
    "            Body=output_csv, \n",
    "            Bucket=bucket,\n",
    "            Key=output_key\n",
    "        )\n",
    "        print(f\"Predictions saved to s3://{bucket}/{output_key}\")\n",
    "    except Exception as e:\n",
    "        print(f\"Error uploading predictions to S3: {e}\")\n",
    "        # Save predictions locally as fallback\n",
    "        with open('predictions.csv', 'w') as f:\n",
    "            f.write(output_csv)\n",
    "        print(\"Predictions saved locally to predictions.csv\")\n",
    "        \n",
    "    return output_key"
   ]
  },
  {
   "cell_type": "markdown",
   "id": "fb039dd0",
   "metadata": {},
   "source": [
    "## Step 6: Define binary conversion function\n",
    "\n",
    "#### CHANGE THRESHOLD ONCE OBTAINED BEST THRESHOLD**!"
   ]
  },
  {
   "cell_type": "code",
   "execution_count": 14,
   "id": "50996d0a",
   "metadata": {},
   "outputs": [
    {
     "name": "stdout",
     "output_type": "stream",
     "text": [
      "Loaded threshold from S3 root: 0.30000000000000004\n"
     ]
    }
   ],
   "source": [
    "try:\n",
    "    # Read threshold from S3 bucket\n",
    "    s3_client = boto3.client('s3')\n",
    "    try:\n",
    "        # First try to read from root of bucket\n",
    "        threshold_obj = s3_client.get_object(Bucket=bucket, Key='best_threshold.pkl')\n",
    "        best_threshold = pickle.load(threshold_obj['Body'])\n",
    "        print(f\"Loaded threshold from S3 root: {best_threshold}\")\n",
    "    except:\n",
    "        try:\n",
    "            # If not in root, try in folders directory\n",
    "            threshold_obj = s3_client.get_object(Bucket=bucket, Key=f'{prefix}/best_threshold.pkl')\n",
    "            best_threshold = pickle.load(threshold_obj['Body'])\n",
    "            print(f\"Loaded threshold from S3 folders path: {best_threshold}\")\n",
    "        except:\n",
    "            # Default to 0.5 if file doesn't exist in either location\n",
    "            best_threshold = 0.5\n",
    "            print(f\"No threshold file found in S3, using default: {best_threshold}\")\n",
    "except Exception as e:\n",
    "    # Default to 0.5 if any error occurs\n",
    "    best_threshold = 0.5\n",
    "    print(f\"Error loading threshold from S3: {e}\")\n",
    "    print(f\"Using default threshold: {best_threshold}\")"
   ]
  },
  {
   "cell_type": "code",
   "execution_count": 15,
   "id": "e3cc41cd",
   "metadata": {},
   "outputs": [
    {
     "name": "stdout",
     "output_type": "stream",
     "text": [
      "Best threshold: 0.30000000000000004\n"
     ]
    }
   ],
   "source": [
    "## Step 6: Define binary conversion function\n",
    "# inspect best_threshold\n",
    "print(f\"Best threshold: {best_threshold}\")\n",
    "\n",
    "def binary_convert(x):\n",
    "    threshold = best_threshold # default is 0.5\n",
    "    if x > threshold:\n",
    "        return 1\n",
    "    else:\n",
    "        return 0"
   ]
  },
  {
   "cell_type": "markdown",
   "id": "0b96977b",
   "metadata": {},
   "source": [
    "## Step 7: Verify instance type quota"
   ]
  },
  {
   "cell_type": "code",
   "execution_count": 16,
   "id": "7835f218",
   "metadata": {},
   "outputs": [],
   "source": [
    "## Step 7: Verify instance type quota\n",
    "def check_instance_quota(instance_type):\n",
    "    try:\n",
    "        client = boto3.client('service-quotas')\n",
    "        sm_client = boto3.client('sagemaker')\n",
    "        \n",
    "        # Check if there are any existing instances of this type\n",
    "        endpoints = sm_client.list_endpoints()\n",
    "        existing_count = 0\n",
    "        for endpoint in endpoints['Endpoints']:\n",
    "            endpoint_desc = sm_client.describe_endpoint(EndpointName=endpoint['EndpointName'])\n",
    "            if instance_type in str(endpoint_desc):\n",
    "                existing_count += 1\n",
    "        \n",
    "        if existing_count > 0:\n",
    "            print(f\"Warning: You have {existing_count} existing endpoints using {instance_type}\")\n",
    "            print(\"This may affect your ability to create new endpoints with this instance type\")\n",
    "        \n",
    "        print(f\"Proceeding with instance type: {instance_type}\")\n",
    "        return True\n",
    "    except Exception as e:\n",
    "        print(f\"Could not verify quota for {instance_type}: {e}\")\n",
    "        print(\"Proceeding anyway, but deployment may fail if quota is exceeded\")\n",
    "        return True"
   ]
  },
  {
   "cell_type": "markdown",
   "id": "5b84835c",
   "metadata": {},
   "source": [
    "## Step 8: Enhanced Performance Evaluation Functions"
   ]
  },
  {
   "cell_type": "code",
   "execution_count": 17,
   "id": "2ca0a0f4",
   "metadata": {},
   "outputs": [],
   "source": [
    "## Step 8: Enhanced Performance Evaluation Functions\n",
    "def calculate_f1_score(y_true, y_pred):\n",
    "    \"\"\"Calculate F1 score, which is the harmonic mean of precision and recall\"\"\"\n",
    "    from sklearn.metrics import f1_score\n",
    "    return f1_score(y_true, y_pred)\n",
    "\n",
    "def plot_precision_recall_curve(y_true, y_pred_proba):\n",
    "    \"\"\"Plot precision-recall curve\"\"\"\n",
    "    from sklearn.metrics import precision_recall_curve, average_precision_score\n",
    "    precision, recall, thresholds = precision_recall_curve(y_true, y_pred_proba)\n",
    "    ap = average_precision_score(y_true, y_pred_proba)\n",
    "    \n",
    "    plt.figure(figsize=(10, 6))\n",
    "    plt.plot(recall, precision, marker='.', label=f'AP={ap:.3f}')\n",
    "    plt.xlabel('Recall')\n",
    "    plt.ylabel('Precision')\n",
    "    plt.title('Precision-Recall Curve')\n",
    "    plt.legend()\n",
    "    plt.grid(True)\n",
    "    plt.show()\n",
    "    \n",
    "    return precision, recall, thresholds"
   ]
  },
  {
   "cell_type": "code",
   "execution_count": 18,
   "id": "4ad1319a",
   "metadata": {},
   "outputs": [],
   "source": [
    "def plot_lift_gain_chart(y_true, y_pred_proba):\n",
    "    \"\"\"Plot lift and gain charts for model evaluation\"\"\"\n",
    "    # Sort by probability\n",
    "    df = pd.DataFrame({'true': y_true, 'prob': y_pred_proba})\n",
    "    df = df.sort_values(by='prob', ascending=False).reset_index(drop=True)\n",
    "    df['rank'] = df.index + 1\n",
    "    df['percent_rank'] = df['rank'] / len(df)\n",
    "    \n",
    "    # Calculate cumulative values\n",
    "    df['cum_true'] = df['true'].cumsum()\n",
    "    df['cum_true_perc'] = df['cum_true'] / df['true'].sum()\n",
    "    \n",
    "    # Calculate lift\n",
    "    df['random'] = df['percent_rank']\n",
    "    df['lift'] = df['cum_true_perc'] / df['random']\n",
    "    \n",
    "    # Plot gain chart\n",
    "    plt.figure(figsize=(12, 5))\n",
    "    plt.subplot(1, 2, 1)\n",
    "    plt.plot(df['percent_rank'], df['cum_true_perc'], label='Model')\n",
    "    plt.plot(df['percent_rank'], df['random'], linestyle='--', label='Random')\n",
    "    plt.xlabel('Population %')\n",
    "    plt.ylabel('Target %')\n",
    "    plt.title('Gain Chart')\n",
    "    plt.grid(True)\n",
    "    plt.legend()\n",
    "    \n",
    "    # Plot lift chart\n",
    "    plt.subplot(1, 2, 2)\n",
    "    plt.plot(df['percent_rank'], df['lift'])\n",
    "    plt.xlabel('Population %')\n",
    "    plt.ylabel('Lift')\n",
    "    plt.title('Lift Chart')\n",
    "    plt.grid(True)\n",
    "    plt.tight_layout()\n",
    "    plt.show()\n"
   ]
  },
  {
   "cell_type": "code",
   "execution_count": 19,
   "id": "0ba08397",
   "metadata": {},
   "outputs": [],
   "source": [
    "def plot_feature_importance(X, y, model_params):\n",
    "    \"\"\"Plot feature importance\"\"\"\n",
    "    import xgboost as xgb\n",
    "    \n",
    "    model = xgb.XGBClassifier(**model_params)\n",
    "    model.fit(X, y)\n",
    "    \n",
    "    # Get feature importance\n",
    "    importance = model.feature_importances_\n",
    "    # Create DataFrame for plotting\n",
    "    feat_importance = pd.DataFrame({\n",
    "        'Feature': X.columns,\n",
    "        'Importance': importance\n",
    "    }).sort_values('Importance', ascending=False)\n",
    "    \n",
    "    plt.figure(figsize=(12, 6))\n",
    "    plt.barh(feat_importance['Feature'], feat_importance['Importance'])\n",
    "    plt.xlabel('Importance')\n",
    "    plt.title('Feature Importance')\n",
    "    plt.grid(True, axis='x')\n",
    "    plt.tight_layout()\n",
    "    plt.show()\n",
    "    \n",
    "    return feat_importance"
   ]
  },
  {
   "cell_type": "code",
   "execution_count": 20,
   "id": "7c5c7871",
   "metadata": {},
   "outputs": [],
   "source": [
    "def plot_partial_dependence(X, y, model_params, features=None):\n",
    "    \"\"\"Plot partial dependence for top features\"\"\"\n",
    "    try:\n",
    "        import xgboost as xgb\n",
    "        from sklearn.inspection import PartialDependenceDisplay\n",
    "        \n",
    "        # Create model\n",
    "        model = xgb.XGBClassifier(**model_params)\n",
    "        model.fit(X, y)\n",
    "        \n",
    "        # Get top features if not specified\n",
    "        if features is None:\n",
    "            importance = model.feature_importances_\n",
    "            top_indices = np.argsort(importance)[-3:]  # Top 3 features\n",
    "            features = [list(X.columns)[i] for i in top_indices]\n",
    "        \n",
    "        print(f\"Generating partial dependence plots for: {features}\")\n",
    "        \n",
    "        # Plot partial dependence with parallelization disabled (more stable)\n",
    "        try:\n",
    "            fig, ax = plt.subplots(figsize=(12, 4 * len(features)))\n",
    "            # Disable parallelization by setting n_jobs=1 for more stability\n",
    "            PartialDependenceDisplay.from_estimator(\n",
    "                model, X, features=features, ax=ax, n_jobs=1\n",
    "            )\n",
    "            plt.tight_layout()\n",
    "            plt.show()\n",
    "        except Exception as inner_e:\n",
    "            print(f\"Error in partial dependence calculation: {inner_e}\")\n",
    "            print(\"Trying alternative approach...\")\n",
    "            \n",
    "            # If the first attempt fails, try one feature at a time\n",
    "            for feature in features:\n",
    "                try:\n",
    "                    fig, ax = plt.subplots(figsize=(8, 6))\n",
    "                    PartialDependenceDisplay.from_estimator(\n",
    "                        model, X, features=[feature], ax=ax, n_jobs=1\n",
    "                    )\n",
    "                    plt.tight_layout()\n",
    "                    plt.title(f\"Partial Dependence for {feature}\")\n",
    "                    plt.show()\n",
    "                except:\n",
    "                    print(f\"Could not generate plot for feature: {feature}\")\n",
    "                    \n",
    "    except Exception as e:\n",
    "        print(f\"Could not generate partial dependence plots: {e}\")\n",
    "        print(\"Skipping partial dependence analysis...\")\n",
    "        \n",
    "    return features"
   ]
  },
  {
   "cell_type": "markdown",
   "id": "f9189417",
   "metadata": {},
   "source": [
    "## Step 9: Defining the container for the algorithm"
   ]
  },
  {
   "cell_type": "code",
   "execution_count": 21,
   "id": "19631ae2",
   "metadata": {},
   "outputs": [
    {
     "data": {
      "text/html": [
       "<pre style=\"white-space:pre;overflow-x:auto;line-height:normal;font-family:Menlo,'DejaVu Sans Mono',consolas,'Courier New',monospace\"><span style=\"color: #7fbfbf; text-decoration-color: #7fbfbf\">[04/07/25 00:13:52] </span><span style=\"color: #0069ff; text-decoration-color: #0069ff; font-weight: bold\">INFO    </span> Defaulting to only available Python version: py3                     <a href=\"file:///home/ec2-user/anaconda3/envs/python3/lib/python3.10/site-packages/sagemaker/image_uris.py\" target=\"_blank\"><span style=\"color: #7f7f7f; text-decoration-color: #7f7f7f\">image_uris.py</span></a><span style=\"color: #7f7f7f; text-decoration-color: #7f7f7f\">:</span><a href=\"file:///home/ec2-user/anaconda3/envs/python3/lib/python3.10/site-packages/sagemaker/image_uris.py#610\" target=\"_blank\"><span style=\"color: #7f7f7f; text-decoration-color: #7f7f7f\">610</span></a>\n",
       "</pre>\n"
      ],
      "text/plain": [
       "\u001b[2;36m[04/07/25 00:13:52]\u001b[0m\u001b[2;36m \u001b[0m\u001b[1;38;2;0;105;255mINFO    \u001b[0m Defaulting to only available Python version: py3                     \u001b]8;id=475907;file:///home/ec2-user/anaconda3/envs/python3/lib/python3.10/site-packages/sagemaker/image_uris.py\u001b\\\u001b[2mimage_uris.py\u001b[0m\u001b]8;;\u001b\\\u001b[2m:\u001b[0m\u001b]8;id=633150;file:///home/ec2-user/anaconda3/envs/python3/lib/python3.10/site-packages/sagemaker/image_uris.py#610\u001b\\\u001b[2m610\u001b[0m\u001b]8;;\u001b\\\n"
      ]
     },
     "metadata": {},
     "output_type": "display_data"
    },
    {
     "data": {
      "text/html": [
       "<pre style=\"white-space:pre;overflow-x:auto;line-height:normal;font-family:Menlo,'DejaVu Sans Mono',consolas,'Courier New',monospace\"><span style=\"color: #7fbfbf; text-decoration-color: #7fbfbf\">                    </span><span style=\"color: #0069ff; text-decoration-color: #0069ff; font-weight: bold\">INFO    </span> Defaulting to only supported image scope: cpu.                       <a href=\"file:///home/ec2-user/anaconda3/envs/python3/lib/python3.10/site-packages/sagemaker/image_uris.py\" target=\"_blank\"><span style=\"color: #7f7f7f; text-decoration-color: #7f7f7f\">image_uris.py</span></a><span style=\"color: #7f7f7f; text-decoration-color: #7f7f7f\">:</span><a href=\"file:///home/ec2-user/anaconda3/envs/python3/lib/python3.10/site-packages/sagemaker/image_uris.py#534\" target=\"_blank\"><span style=\"color: #7f7f7f; text-decoration-color: #7f7f7f\">534</span></a>\n",
       "</pre>\n"
      ],
      "text/plain": [
       "\u001b[2;36m                   \u001b[0m\u001b[2;36m \u001b[0m\u001b[1;38;2;0;105;255mINFO    \u001b[0m Defaulting to only supported image scope: cpu.                       \u001b]8;id=25027;file:///home/ec2-user/anaconda3/envs/python3/lib/python3.10/site-packages/sagemaker/image_uris.py\u001b\\\u001b[2mimage_uris.py\u001b[0m\u001b]8;;\u001b\\\u001b[2m:\u001b[0m\u001b]8;id=975576;file:///home/ec2-user/anaconda3/envs/python3/lib/python3.10/site-packages/sagemaker/image_uris.py#534\u001b\\\u001b[2m534\u001b[0m\u001b]8;;\u001b\\\n"
      ]
     },
     "metadata": {},
     "output_type": "display_data"
    }
   ],
   "source": [
    "container = retrieve('xgboost', boto3.Session().region_name, '1.0-1')"
   ]
  },
  {
   "cell_type": "markdown",
   "id": "0cd6ff4c",
   "metadata": {},
   "source": [
    "## Step 10: Defining the input data channels for training and validation"
   ]
  },
  {
   "cell_type": "code",
   "execution_count": 22,
   "id": "312fd1e3",
   "metadata": {},
   "outputs": [],
   "source": [
    "# Step 10: Defining the input data channels for training and validation\n",
    "train_channel = sagemaker.inputs.TrainingInput(\n",
    "    \"s3://{}/{}/train/\".format(bucket, prefix, train_file),\n",
    "    content_type='text/csv')\n",
    "\n",
    "validate_channel = sagemaker.inputs.TrainingInput(\n",
    "    \"s3://{}/{}/validate/\".format(bucket, prefix, validate_file),\n",
    "    content_type='text/csv')\n",
    "\n",
    "data_channels = {'train': train_channel, 'validation': validate_channel}"
   ]
  },
  {
   "cell_type": "markdown",
   "id": "7ddd8790",
   "metadata": {},
   "source": [
    "# Section 2: HYPERPARAMETER TUNING "
   ]
  },
  {
   "cell_type": "markdown",
   "id": "2f2685d7",
   "metadata": {},
   "source": [
    "### Step 1: Define the model to tune"
   ]
  },
  {
   "cell_type": "code",
   "execution_count": 23,
   "id": "bb2d3c9e",
   "metadata": {},
   "outputs": [
    {
     "name": "stdout",
     "output_type": "stream",
     "text": [
      "\n",
      "===== Starting Hyperparameter Tuning =====\n"
     ]
    }
   ],
   "source": [
    "print(\"\\n===== Starting Hyperparameter Tuning =====\")\n",
    "\n",
    "# Step 1: Define the model to tune\n",
    "xgb = sagemaker.estimator.Estimator(\n",
    "    container,\n",
    "    role=sagemaker.get_execution_role(), \n",
    "    instance_count=1,\n",
    "    instance_type='ml.m5.xlarge', \n",
    "    output_path=f's3://{bucket}/{prefix}/output',\n",
    "    sagemaker_session=sagemaker.Session()\n",
    ")"
   ]
  },
  {
   "cell_type": "markdown",
   "id": "c1274bbb",
   "metadata": {},
   "source": [
    "### Step 2: Set hyperparameters"
   ]
  },
  {
   "cell_type": "code",
   "execution_count": 24,
   "id": "db10413a",
   "metadata": {},
   "outputs": [],
   "source": [
    "# Step 2: Set hyperparameters\n",
    "xgb.set_hyperparameters(\n",
    "    eval_metric='auc', # Using AUC since we'll be optimizing for profit separately\n",
    "    objective='binary:logistic',\n",
    "    num_round=42\n",
    ")"
   ]
  },
  {
   "cell_type": "markdown",
   "id": "98f79e0a",
   "metadata": {},
   "source": [
    "### Step 3: Define hyperparameter ranges"
   ]
  },
  {
   "cell_type": "code",
   "execution_count": 25,
   "id": "8df0b756",
   "metadata": {},
   "outputs": [],
   "source": [
    "# Step 3: Define hyperparameter ranges\n",
    "hyperparameter_ranges = {\n",
    "    'alpha': ContinuousParameter(0, 100),\n",
    "    'min_child_weight': ContinuousParameter(1, 5),\n",
    "    'subsample': ContinuousParameter(0.5, 1),\n",
    "    'eta': ContinuousParameter(0.1, 0.3),  \n",
    "    'num_round': IntegerParameter(1, 50)\n",
    "}"
   ]
  },
  {
   "cell_type": "markdown",
   "id": "20f6232a",
   "metadata": {},
   "source": [
    "### Step 4: Create and run tuner"
   ]
  },
  {
   "cell_type": "code",
   "execution_count": 26,
   "id": "badf2f0e",
   "metadata": {},
   "outputs": [],
   "source": [
    "# Step 4: Create and run tuner\n",
    "tuner = HyperparameterTuner(\n",
    "    xgb,\n",
    "    'validation:auc',  # Using AUC for validation, which provides good probability estimates\n",
    "    hyperparameter_ranges,\n",
    "    max_jobs=5,\n",
    "    max_parallel_jobs=1,\n",
    "    objective_type='Maximize',  # Changed to Maximize for AUC\n",
    "    early_stopping_type='Auto'\n",
    ")"
   ]
  },
  {
   "cell_type": "markdown",
   "id": "9fb5cdd9",
   "metadata": {},
   "source": [
    "### Step 5: Run tuning job"
   ]
  },
  {
   "cell_type": "code",
   "execution_count": 27,
   "id": "70272d35",
   "metadata": {},
   "outputs": [
    {
     "name": "stdout",
     "output_type": "stream",
     "text": [
      "Launching tuning job...\n"
     ]
    },
    {
     "data": {
      "text/html": [
       "<pre style=\"white-space:pre;overflow-x:auto;line-height:normal;font-family:Menlo,'DejaVu Sans Mono',consolas,'Courier New',monospace\"><span style=\"color: #7fbfbf; text-decoration-color: #7fbfbf\">[04/07/25 00:13:58] </span><span style=\"color: #d7af00; text-decoration-color: #d7af00; font-weight: bold\">WARNING </span> No finished training job found associated with this estimator.       <a href=\"file:///home/ec2-user/anaconda3/envs/python3/lib/python3.10/site-packages/sagemaker/estimator.py\" target=\"_blank\"><span style=\"color: #7f7f7f; text-decoration-color: #7f7f7f\">estimator.py</span></a><span style=\"color: #7f7f7f; text-decoration-color: #7f7f7f\">:</span><a href=\"file:///home/ec2-user/anaconda3/envs/python3/lib/python3.10/site-packages/sagemaker/estimator.py#1914\" target=\"_blank\"><span style=\"color: #7f7f7f; text-decoration-color: #7f7f7f\">1914</span></a>\n",
       "<span style=\"color: #7fbfbf; text-decoration-color: #7fbfbf\">                    </span>         Please make sure this estimator is only used for building workflow   <span style=\"color: #7f7f7f; text-decoration-color: #7f7f7f\">                 </span>\n",
       "<span style=\"color: #7fbfbf; text-decoration-color: #7fbfbf\">                    </span>         config                                                               <span style=\"color: #7f7f7f; text-decoration-color: #7f7f7f\">                 </span>\n",
       "</pre>\n"
      ],
      "text/plain": [
       "\u001b[2;36m[04/07/25 00:13:58]\u001b[0m\u001b[2;36m \u001b[0m\u001b[1;38;2;215;175;0mWARNING \u001b[0m No finished training job found associated with this estimator.       \u001b]8;id=119369;file:///home/ec2-user/anaconda3/envs/python3/lib/python3.10/site-packages/sagemaker/estimator.py\u001b\\\u001b[2mestimator.py\u001b[0m\u001b]8;;\u001b\\\u001b[2m:\u001b[0m\u001b]8;id=577528;file:///home/ec2-user/anaconda3/envs/python3/lib/python3.10/site-packages/sagemaker/estimator.py#1914\u001b\\\u001b[2m1914\u001b[0m\u001b]8;;\u001b\\\n",
       "\u001b[2;36m                    \u001b[0m         Please make sure this estimator is only used for building workflow   \u001b[2m                 \u001b[0m\n",
       "\u001b[2;36m                    \u001b[0m         config                                                               \u001b[2m                 \u001b[0m\n"
      ]
     },
     "metadata": {},
     "output_type": "display_data"
    },
    {
     "data": {
      "text/html": [
       "<pre style=\"white-space:pre;overflow-x:auto;line-height:normal;font-family:Menlo,'DejaVu Sans Mono',consolas,'Courier New',monospace\"><span style=\"color: #7fbfbf; text-decoration-color: #7fbfbf\">                    </span><span style=\"color: #d7af00; text-decoration-color: #d7af00; font-weight: bold\">WARNING </span> No finished training job found associated with this estimator.       <a href=\"file:///home/ec2-user/anaconda3/envs/python3/lib/python3.10/site-packages/sagemaker/estimator.py\" target=\"_blank\"><span style=\"color: #7f7f7f; text-decoration-color: #7f7f7f\">estimator.py</span></a><span style=\"color: #7f7f7f; text-decoration-color: #7f7f7f\">:</span><a href=\"file:///home/ec2-user/anaconda3/envs/python3/lib/python3.10/site-packages/sagemaker/estimator.py#1914\" target=\"_blank\"><span style=\"color: #7f7f7f; text-decoration-color: #7f7f7f\">1914</span></a>\n",
       "<span style=\"color: #7fbfbf; text-decoration-color: #7fbfbf\">                    </span>         Please make sure this estimator is only used for building workflow   <span style=\"color: #7f7f7f; text-decoration-color: #7f7f7f\">                 </span>\n",
       "<span style=\"color: #7fbfbf; text-decoration-color: #7fbfbf\">                    </span>         config                                                               <span style=\"color: #7f7f7f; text-decoration-color: #7f7f7f\">                 </span>\n",
       "</pre>\n"
      ],
      "text/plain": [
       "\u001b[2;36m                   \u001b[0m\u001b[2;36m \u001b[0m\u001b[1;38;2;215;175;0mWARNING \u001b[0m No finished training job found associated with this estimator.       \u001b]8;id=290136;file:///home/ec2-user/anaconda3/envs/python3/lib/python3.10/site-packages/sagemaker/estimator.py\u001b\\\u001b[2mestimator.py\u001b[0m\u001b]8;;\u001b\\\u001b[2m:\u001b[0m\u001b]8;id=537686;file:///home/ec2-user/anaconda3/envs/python3/lib/python3.10/site-packages/sagemaker/estimator.py#1914\u001b\\\u001b[2m1914\u001b[0m\u001b]8;;\u001b\\\n",
       "\u001b[2;36m                    \u001b[0m         Please make sure this estimator is only used for building workflow   \u001b[2m                 \u001b[0m\n",
       "\u001b[2;36m                    \u001b[0m         config                                                               \u001b[2m                 \u001b[0m\n"
      ]
     },
     "metadata": {},
     "output_type": "display_data"
    },
    {
     "data": {
      "text/html": [
       "<pre style=\"white-space:pre;overflow-x:auto;line-height:normal;font-family:Menlo,'DejaVu Sans Mono',consolas,'Courier New',monospace\"><span style=\"color: #7fbfbf; text-decoration-color: #7fbfbf\">                    </span><span style=\"color: #0069ff; text-decoration-color: #0069ff; font-weight: bold\">INFO    </span> Creating hyperparameter tuning job with name:                          <a href=\"file:///home/ec2-user/anaconda3/envs/python3/lib/python3.10/site-packages/sagemaker/session.py\" target=\"_blank\"><span style=\"color: #7f7f7f; text-decoration-color: #7f7f7f\">session.py</span></a><span style=\"color: #7f7f7f; text-decoration-color: #7f7f7f\">:</span><a href=\"file:///home/ec2-user/anaconda3/envs/python3/lib/python3.10/site-packages/sagemaker/session.py#3383\" target=\"_blank\"><span style=\"color: #7f7f7f; text-decoration-color: #7f7f7f\">3383</span></a>\n",
       "<span style=\"color: #7fbfbf; text-decoration-color: #7fbfbf\">                    </span>         sagemaker-xgboost-<span style=\"color: #008080; text-decoration-color: #008080; font-weight: bold\">250407</span>-<span style=\"color: #008080; text-decoration-color: #008080; font-weight: bold\">0013</span>                                          <span style=\"color: #7f7f7f; text-decoration-color: #7f7f7f\">               </span>\n",
       "</pre>\n"
      ],
      "text/plain": [
       "\u001b[2;36m                   \u001b[0m\u001b[2;36m \u001b[0m\u001b[1;38;2;0;105;255mINFO    \u001b[0m Creating hyperparameter tuning job with name:                          \u001b]8;id=260822;file:///home/ec2-user/anaconda3/envs/python3/lib/python3.10/site-packages/sagemaker/session.py\u001b\\\u001b[2msession.py\u001b[0m\u001b]8;;\u001b\\\u001b[2m:\u001b[0m\u001b]8;id=916736;file:///home/ec2-user/anaconda3/envs/python3/lib/python3.10/site-packages/sagemaker/session.py#3383\u001b\\\u001b[2m3383\u001b[0m\u001b]8;;\u001b\\\n",
       "\u001b[2;36m                    \u001b[0m         sagemaker-xgboost-\u001b[1;36m250407\u001b[0m-\u001b[1;36m0013\u001b[0m                                          \u001b[2m               \u001b[0m\n"
      ]
     },
     "metadata": {},
     "output_type": "display_data"
    },
    {
     "name": "stdout",
     "output_type": "stream",
     "text": [
      "................................................................................!\n",
      "!\n"
     ]
    }
   ],
   "source": [
    "# Step 5: Run tuning job\n",
    "print(\"Launching tuning job...\")\n",
    "tuner.fit(inputs=data_channels, include_cls_metadata=False)\n",
    "tuner.wait()"
   ]
  },
  {
   "cell_type": "markdown",
   "id": "c0b5d7e9",
   "metadata": {},
   "source": [
    "### Step 6: Check tuning job status"
   ]
  },
  {
   "cell_type": "code",
   "execution_count": 28,
   "id": "36141e9e",
   "metadata": {},
   "outputs": [
    {
     "name": "stdout",
     "output_type": "stream",
     "text": [
      "Tuning job status: Completed\n"
     ]
    }
   ],
   "source": [
    "# Step 6: Check tuning job status\n",
    "job_status = boto3.client('sagemaker').describe_hyper_parameter_tuning_job(\n",
    "    HyperParameterTuningJobName=tuner.latest_tuning_job.job_name\n",
    ")['HyperParameterTuningJobStatus']\n",
    "print(f\"Tuning job status: {job_status}\")"
   ]
  },
  {
   "cell_type": "markdown",
   "id": "2a462e7c",
   "metadata": {},
   "source": [
    "### Step 7: Analyze tuning results"
   ]
  },
  {
   "cell_type": "code",
   "execution_count": 29,
   "id": "dcd16267",
   "metadata": {},
   "outputs": [
    {
     "name": "stdout",
     "output_type": "stream",
     "text": [
      "Analyzing tuning results...\n",
      "Top performing model configurations:\n",
      "       alpha       eta  min_child_weight  num_round  subsample  \\\n",
      "3  27.873518  0.116820          3.516714       46.0   0.743363   \n",
      "2  38.346288  0.276253          4.282118       23.0   0.511147   \n",
      "0  50.375655  0.249509          2.522693       13.0   0.600136   \n",
      "4  88.239290  0.130889          4.007271       37.0   0.853451   \n",
      "1  54.771120  0.142716          4.147647        7.0   0.609312   \n",
      "\n",
      "                              TrainingJobName TrainingJobStatus  \\\n",
      "3  sagemaker-xgboost-250407-0013-002-d141d2a0         Completed   \n",
      "2  sagemaker-xgboost-250407-0013-003-f6f7d473         Completed   \n",
      "0  sagemaker-xgboost-250407-0013-005-9a060e16         Completed   \n",
      "4  sagemaker-xgboost-250407-0013-001-c3ddfbe4         Completed   \n",
      "1  sagemaker-xgboost-250407-0013-004-e8cc3b76           Stopped   \n",
      "\n",
      "   FinalObjectiveValue         TrainingStartTime           TrainingEndTime  \\\n",
      "3              0.98429 2025-04-07 00:16:56+00:00 2025-04-07 00:18:24+00:00   \n",
      "2              0.98160 2025-04-07 00:18:51+00:00 2025-04-07 00:19:25+00:00   \n",
      "0              0.97960 2025-04-07 00:20:10+00:00 2025-04-07 00:20:39+00:00   \n",
      "4              0.97902 2025-04-07 00:14:34+00:00 2025-04-07 00:16:05+00:00   \n",
      "1              0.90601 2025-04-07 00:19:36+00:00 2025-04-07 00:20:00+00:00   \n",
      "\n",
      "   TrainingElapsedTimeSeconds  \n",
      "3                        88.0  \n",
      "2                        34.0  \n",
      "0                        29.0  \n",
      "4                        91.0  \n",
      "1                        24.0  \n"
     ]
    }
   ],
   "source": [
    "# Step 7: Analyze tuning results\n",
    "print(\"Analyzing tuning results...\")\n",
    "tuner_analytics = HyperparameterTuningJobAnalytics(\n",
    "    tuner.latest_tuning_job.name, \n",
    "    sagemaker_session=sagemaker.Session()\n",
    ")\n",
    "df_tuning_job_analytics = tuner_analytics.dataframe()\n",
    "df_tuning_job_analytics.sort_values(\n",
    "    by=['FinalObjectiveValue'],\n",
    "    inplace=True,\n",
    "    ascending=False  # For 'Maximize' objective with AUC\n",
    ")\n",
    "print(\"Top performing model configurations:\")\n",
    "print(df_tuning_job_analytics.head(5))"
   ]
  },
  {
   "cell_type": "markdown",
   "id": "1c9e28a0",
   "metadata": {},
   "source": [
    "### Step 8: Get the best model"
   ]
  },
  {
   "cell_type": "code",
   "execution_count": 30,
   "id": "b359c9bc",
   "metadata": {},
   "outputs": [
    {
     "name": "stdout",
     "output_type": "stream",
     "text": [
      "Selecting best model...\n",
      "\n",
      "2025-04-07 00:19:34 Starting - Preparing the instances for training\n",
      "2025-04-07 00:19:34 Downloading - Downloading the training image\n",
      "2025-04-07 00:19:34 Training - Training image download completed. Training in progress.\n",
      "2025-04-07 00:19:34 Uploading - Uploading generated training model\n",
      "2025-04-07 00:19:34 Completed - Resource reused by training job: sagemaker-xgboost-250407-0013-004-e8cc3b76\n"
     ]
    }
   ],
   "source": [
    "# Step 8: Get the best model\n",
    "print(\"Selecting best model...\")\n",
    "attached_tuner = HyperparameterTuner.attach(\n",
    "    tuner.latest_tuning_job.name, \n",
    "    sagemaker_session=sagemaker.Session()\n",
    ")\n",
    "best_training_job = attached_tuner.best_training_job()\n",
    "algo_estimator = Estimator.attach(best_training_job)\n",
    "best_model = algo_estimator.create_model(\n",
    "    env={'SAGEMAKER_DEFAULT_INVOCATIONS_ACCEPT': 'text/csv'}\n",
    ")"
   ]
  },
  {
   "cell_type": "markdown",
   "id": "7995bac6",
   "metadata": {},
   "source": [
    "# Section 3: Deployment Endpoint"
   ]
  },
  {
   "cell_type": "markdown",
   "id": "e20a1f2e",
   "metadata": {},
   "source": [
    "### Step 1: Deploy only the best model"
   ]
  },
  {
   "cell_type": "code",
   "execution_count": 31,
   "id": "c747e1dc",
   "metadata": {},
   "outputs": [
    {
     "name": "stdout",
     "output_type": "stream",
     "text": [
      "\n",
      "===== Deploying Best Model =====\n"
     ]
    },
    {
     "data": {
      "text/html": [
       "<pre style=\"white-space:pre;overflow-x:auto;line-height:normal;font-family:Menlo,'DejaVu Sans Mono',consolas,'Courier New',monospace\"><span style=\"color: #7fbfbf; text-decoration-color: #7fbfbf\">[04/07/25 00:21:14] </span><span style=\"color: #0069ff; text-decoration-color: #0069ff; font-weight: bold\">INFO    </span> Creating model with name: sagemaker-xgboost-<span style=\"color: #008080; text-decoration-color: #008080; font-weight: bold\">2025</span>-04-07-00-21-14-823    <a href=\"file:///home/ec2-user/anaconda3/envs/python3/lib/python3.10/site-packages/sagemaker/session.py\" target=\"_blank\"><span style=\"color: #7f7f7f; text-decoration-color: #7f7f7f\">session.py</span></a><span style=\"color: #7f7f7f; text-decoration-color: #7f7f7f\">:</span><a href=\"file:///home/ec2-user/anaconda3/envs/python3/lib/python3.10/site-packages/sagemaker/session.py#4094\" target=\"_blank\"><span style=\"color: #7f7f7f; text-decoration-color: #7f7f7f\">4094</span></a>\n",
       "</pre>\n"
      ],
      "text/plain": [
       "\u001b[2;36m[04/07/25 00:21:14]\u001b[0m\u001b[2;36m \u001b[0m\u001b[1;38;2;0;105;255mINFO    \u001b[0m Creating model with name: sagemaker-xgboost-\u001b[1;36m2025\u001b[0m-04-07-00-21-14-823    \u001b]8;id=757136;file:///home/ec2-user/anaconda3/envs/python3/lib/python3.10/site-packages/sagemaker/session.py\u001b\\\u001b[2msession.py\u001b[0m\u001b]8;;\u001b\\\u001b[2m:\u001b[0m\u001b]8;id=136862;file:///home/ec2-user/anaconda3/envs/python3/lib/python3.10/site-packages/sagemaker/session.py#4094\u001b\\\u001b[2m4094\u001b[0m\u001b]8;;\u001b\\\n"
      ]
     },
     "metadata": {},
     "output_type": "display_data"
    },
    {
     "data": {
      "text/html": [
       "<pre style=\"white-space:pre;overflow-x:auto;line-height:normal;font-family:Menlo,'DejaVu Sans Mono',consolas,'Courier New',monospace\"><span style=\"color: #7fbfbf; text-decoration-color: #7fbfbf\">[04/07/25 00:21:15] </span><span style=\"color: #0069ff; text-decoration-color: #0069ff; font-weight: bold\">INFO    </span> Creating endpoint-config with name                                     <a href=\"file:///home/ec2-user/anaconda3/envs/python3/lib/python3.10/site-packages/sagemaker/session.py\" target=\"_blank\"><span style=\"color: #7f7f7f; text-decoration-color: #7f7f7f\">session.py</span></a><span style=\"color: #7f7f7f; text-decoration-color: #7f7f7f\">:</span><a href=\"file:///home/ec2-user/anaconda3/envs/python3/lib/python3.10/site-packages/sagemaker/session.py#6019\" target=\"_blank\"><span style=\"color: #7f7f7f; text-decoration-color: #7f7f7f\">6019</span></a>\n",
       "<span style=\"color: #7fbfbf; text-decoration-color: #7fbfbf\">                    </span>         sagemaker-xgboost-<span style=\"color: #008080; text-decoration-color: #008080; font-weight: bold\">2025</span>-04-07-00-21-15-358                              <span style=\"color: #7f7f7f; text-decoration-color: #7f7f7f\">               </span>\n",
       "</pre>\n"
      ],
      "text/plain": [
       "\u001b[2;36m[04/07/25 00:21:15]\u001b[0m\u001b[2;36m \u001b[0m\u001b[1;38;2;0;105;255mINFO    \u001b[0m Creating endpoint-config with name                                     \u001b]8;id=392266;file:///home/ec2-user/anaconda3/envs/python3/lib/python3.10/site-packages/sagemaker/session.py\u001b\\\u001b[2msession.py\u001b[0m\u001b]8;;\u001b\\\u001b[2m:\u001b[0m\u001b]8;id=142637;file:///home/ec2-user/anaconda3/envs/python3/lib/python3.10/site-packages/sagemaker/session.py#6019\u001b\\\u001b[2m6019\u001b[0m\u001b]8;;\u001b\\\n",
       "\u001b[2;36m                    \u001b[0m         sagemaker-xgboost-\u001b[1;36m2025\u001b[0m-04-07-00-21-15-358                              \u001b[2m               \u001b[0m\n"
      ]
     },
     "metadata": {},
     "output_type": "display_data"
    },
    {
     "data": {
      "text/html": [
       "<pre style=\"white-space:pre;overflow-x:auto;line-height:normal;font-family:Menlo,'DejaVu Sans Mono',consolas,'Courier New',monospace\"><span style=\"color: #7fbfbf; text-decoration-color: #7fbfbf\">                    </span><span style=\"color: #0069ff; text-decoration-color: #0069ff; font-weight: bold\">INFO    </span> Creating endpoint with name sagemaker-xgboost-<span style=\"color: #008080; text-decoration-color: #008080; font-weight: bold\">2025</span>-04-07-00-21-15-358  <a href=\"file:///home/ec2-user/anaconda3/envs/python3/lib/python3.10/site-packages/sagemaker/session.py\" target=\"_blank\"><span style=\"color: #7f7f7f; text-decoration-color: #7f7f7f\">session.py</span></a><span style=\"color: #7f7f7f; text-decoration-color: #7f7f7f\">:</span><a href=\"file:///home/ec2-user/anaconda3/envs/python3/lib/python3.10/site-packages/sagemaker/session.py#4841\" target=\"_blank\"><span style=\"color: #7f7f7f; text-decoration-color: #7f7f7f\">4841</span></a>\n",
       "</pre>\n"
      ],
      "text/plain": [
       "\u001b[2;36m                   \u001b[0m\u001b[2;36m \u001b[0m\u001b[1;38;2;0;105;255mINFO    \u001b[0m Creating endpoint with name sagemaker-xgboost-\u001b[1;36m2025\u001b[0m-04-07-00-21-15-358  \u001b]8;id=608834;file:///home/ec2-user/anaconda3/envs/python3/lib/python3.10/site-packages/sagemaker/session.py\u001b\\\u001b[2msession.py\u001b[0m\u001b]8;;\u001b\\\u001b[2m:\u001b[0m\u001b]8;id=981048;file:///home/ec2-user/anaconda3/envs/python3/lib/python3.10/site-packages/sagemaker/session.py#4841\u001b\\\u001b[2m4841\u001b[0m\u001b]8;;\u001b\\\n"
      ]
     },
     "metadata": {},
     "output_type": "display_data"
    },
    {
     "name": "stdout",
     "output_type": "stream",
     "text": [
      "-----!"
     ]
    }
   ],
   "source": [
    "print(\"\\n===== Deploying Best Model =====\")\n",
    "# Step 1: Deploy only the best model\n",
    "predictor = best_model.deploy(\n",
    "    initial_instance_count=1,\n",
    "    serializer=sagemaker.serializers.CSVSerializer(),\n",
    "    instance_type='ml.m5.xlarge'\n",
    ")"
   ]
  },
  {
   "cell_type": "markdown",
   "id": "f6d2821d",
   "metadata": {},
   "source": [
    "### Step 2: Make predictions"
   ]
  },
  {
   "cell_type": "code",
   "execution_count": 32,
   "id": "0076b53e",
   "metadata": {},
   "outputs": [
    {
     "name": "stdout",
     "output_type": "stream",
     "text": [
      "Making predictions with best model...\n",
      "Predictions saved to s3://telco-churn-cp/folders/batch-out/batch-in.csv\n"
     ]
    }
   ],
   "source": [
    "# Step 2: Make predictions\n",
    "print(\"Making predictions with best model...\")\n",
    "output_key = predict_and_store_in_s3(\n",
    "    test_df=test,\n",
    "    predictor=predictor,\n",
    "    bucket=bucket,\n",
    "    prefix=prefix,\n",
    "    batch_size=5,\n",
    "    exclude_cols=['Churn']\n",
    ")"
   ]
  },
  {
   "cell_type": "markdown",
   "id": "75bc2071",
   "metadata": {},
   "source": [
    "### Step 3: Retrieve and process predictions"
   ]
  },
  {
   "cell_type": "code",
   "execution_count": 33,
   "id": "65207467",
   "metadata": {},
   "outputs": [],
   "source": [
    "# Step 3: Retrieve and process predictions\n",
    "s3 = boto3.client('s3')\n",
    "obj = s3.get_object(Bucket=bucket, Key=output_key)\n",
    "predictions = pd.read_csv(io.BytesIO(obj['Body'].read()), names=['Churn'])"
   ]
  },
  {
   "cell_type": "markdown",
   "id": "06787469",
   "metadata": {},
   "source": [
    "Testing Diagnostics for Debugging"
   ]
  },
  {
   "cell_type": "code",
   "execution_count": 34,
   "id": "8423df53",
   "metadata": {},
   "outputs": [
    {
     "name": "stdout",
     "output_type": "stream",
     "text": [
      "TEST DATASET INFO:\n",
      "Shape: (704, 30)\n",
      "Index type: <class 'pandas.core.indexes.numeric.Int64Index'>\n",
      "First 5 indices: [5915, 6940, 1865, 1227, 6368]\n",
      "\n",
      "PREDICTIONS INFO:\n",
      "Shape: (704, 1)\n",
      "Index type: <class 'pandas.core.indexes.range.RangeIndex'>\n",
      "First 5 indices: [0, 1, 2, 3, 4]\n",
      "Null count: 0\n",
      "Non-null count: 704\n",
      "\n",
      "RAW PREDICTION FILE:\n",
      "File length: 14038 bytes\n",
      "Line count: 704\n",
      "First 5 lines: ['0.01707170158624649', '0.02054954506456852', '0.9585896134376526', '0.015557182021439075', '0.015557182021439075']\n"
     ]
    }
   ],
   "source": [
    "# DIAGNOSTICS for Basic information\n",
    "print(f\"TEST DATASET INFO:\")\n",
    "print(f\"Shape: {test.shape}\")\n",
    "print(f\"Index type: {type(test.index)}\")\n",
    "print(f\"First 5 indices: {test.index[:5].tolist()}\")\n",
    "\n",
    "print(f\"\\nPREDICTIONS INFO:\")\n",
    "print(f\"Shape: {predictions.shape}\")\n",
    "print(f\"Index type: {type(predictions.index)}\")\n",
    "print(f\"First 5 indices: {predictions.index[:5].tolist()}\")\n",
    "print(f\"Null count: {predictions['Churn'].isna().sum()}\")\n",
    "print(f\"Non-null count: {predictions['Churn'].count()}\")\n",
    "\n",
    "# DIAGNOSTICS for Examine raw prediction file\n",
    "raw_data = s3.get_object(Bucket=bucket, Key=output_key)['Body'].read().decode('utf-8')\n",
    "print(f\"\\nRAW PREDICTION FILE:\")\n",
    "print(f\"File length: {len(raw_data)} bytes\")\n",
    "line_count = raw_data.count('\\n') + 1\n",
    "print(f\"Line count: {line_count}\")\n",
    "first_5_lines = raw_data.split('\\n')[:5]\n",
    "print(f\"First 5 lines: {first_5_lines}\")"
   ]
  },
  {
   "cell_type": "code",
   "execution_count": null,
   "id": "7307028b",
   "metadata": {},
   "outputs": [],
   "source": []
  },
  {
   "cell_type": "markdown",
   "id": "0fe9d766",
   "metadata": {},
   "source": [
    "### Step 4: Convert to binary predictions"
   ]
  },
  {
   "cell_type": "code",
   "execution_count": 35,
   "id": "7101d344",
   "metadata": {},
   "outputs": [],
   "source": [
    "# Step 4: Convert to binary predictions\n",
    "predictions_binary = predictions['Churn'].apply(binary_convert)\n",
    "test_labels = test.iloc[:, 0]"
   ]
  },
  {
   "cell_type": "markdown",
   "id": "96639aba",
   "metadata": {},
   "source": [
    "### Step 5: Evaluate model"
   ]
  },
  {
   "cell_type": "code",
   "execution_count": 36,
   "id": "eb0695cb",
   "metadata": {},
   "outputs": [
    {
     "name": "stdout",
     "output_type": "stream",
     "text": [
      "\n",
      "===== Evaluating Best Model Performance =====\n"
     ]
    },
    {
     "data": {
      "image/png": "[encoded data removed]",
      "text/plain": [
       "<Figure size 640x480 with 1 Axes>"
      ]
     },
     "metadata": {},
     "output_type": "display_data"
    },
    {
     "name": "stdout",
     "output_type": "stream",
     "text": [
      "Sensitivity or TPR: 95.72192513368985%\n",
      "Specificity or TNR: 96.5183752417795%\n",
      "Precision: 90.86294416243655%\n",
      "Negative Predictive Value: 98.42209072978304%\n",
      "False Positive Rate: 3.481624758220503%\n",
      "False Negative Rate: 4.27807486631016%\n",
      "False Discovery Rate: 9.137055837563452%\n",
      "Accuracy: 96.30681818181817%\n",
      "Validation AUC 0.9612015018773467\n"
     ]
    },
    {
     "data": {
      "image/png": "[encoded data removed]",
      "text/plain": [
       "<Figure size 640x480 with 2 Axes>"
      ]
     },
     "metadata": {},
     "output_type": "display_data"
    }
   ],
   "source": [
    "# Step 5: Evaluate model\n",
    "print(\"\\n===== Evaluating Best Model Performance =====\")\n",
    "plot_confusion_matrix(test_labels, predictions_binary)\n",
    "plot_roc(test_labels, predictions_binary)"
   ]
  },
  {
   "cell_type": "markdown",
   "id": "8824872b",
   "metadata": {},
   "source": [
    "### Step 6: Model metrics"
   ]
  },
  {
   "cell_type": "code",
   "execution_count": 37,
   "id": "27db8b18",
   "metadata": {},
   "outputs": [
    {
     "name": "stdout",
     "output_type": "stream",
     "text": [
      "\n",
      "===== Evaluating Profit-Based Performance =====\n",
      "\n",
      "===== Profit-Based Metrics =====\n",
      "Total Profit: $385905.94\n",
      "TP Profit (Saved Customers): $393826.47\n",
      "FP Cost (Unnecessary Interventions): $7920.53\n",
      "True Positives (Saved Customers): 179\n",
      "False Positives (Unnecessary Interventions): 18\n",
      "Optimal profit threshold: 0.1900, Profit: $388546.12\n",
      "\n",
      "===== THRESHOLD OPTIMIZATION =====\n",
      "Current threshold: 0.30000000000000004\n",
      "Current profit: $388546.12\n"
     ]
    }
   ],
   "source": [
    "# Step 6: Evaluate with profit metrics\n",
    "print(\"\\n===== Evaluating Profit-Based Performance =====\")\n",
    "optimal_threshold, profit = evaluate_profit_metrics(test_labels, predictions_binary, predictions['Churn'])\n",
    "\n",
    "# Show current threshold and profit\n",
    "print(f\"\\n===== THRESHOLD OPTIMIZATION =====\")\n",
    "print(f\"Current threshold: {best_threshold}\")\n",
    "print(f\"Current profit: ${profit:.2f}\")\n",
    "\n",
    "# Store current profit for comparison\n",
    "original_profit = profit"
   ]
  },
  {
   "cell_type": "code",
   "execution_count": 38,
   "id": "0e1b9e5e",
   "metadata": {},
   "outputs": [
    {
     "name": "stdout",
     "output_type": "stream",
     "text": [
      "Found better threshold! Updating from 0.3000 to 0.1900\n",
      "Best threshold saved to S3: s3://telco-churn-cp/best_threshold_new.pkl\n",
      "\n",
      "===== Re-evaluating with optimal threshold =====\n"
     ]
    },
    {
     "data": {
      "image/png": "[encoded data removed]",
      "text/plain": [
       "<Figure size 640x480 with 1 Axes>"
      ]
     },
     "metadata": {},
     "output_type": "display_data"
    },
    {
     "name": "stdout",
     "output_type": "stream",
     "text": [
      "Sensitivity or TPR: 97.86096256684492%\n",
      "Specificity or TNR: 93.81044487427465%\n",
      "Precision: 85.11627906976744%\n",
      "Negative Predictive Value: 99.18200408997954%\n",
      "False Positive Rate: 6.189555125725339%\n",
      "False Negative Rate: 2.13903743315508%\n",
      "False Discovery Rate: 14.883720930232558%\n",
      "Accuracy: 94.88636363636364%\n",
      "Validation AUC 0.9583570372055978\n"
     ]
    },
    {
     "data": {
      "image/png": "[encoded data removed]",
      "text/plain": [
       "<Figure size 640x480 with 2 Axes>"
      ]
     },
     "metadata": {},
     "output_type": "display_data"
    },
    {
     "name": "stdout",
     "output_type": "stream",
     "text": [
      "\n",
      "===== Profit-Based Metrics =====\n",
      "Total Profit: $388546.12\n",
      "TP Profit (Saved Customers): $402627.06\n",
      "FP Cost (Unnecessary Interventions): $14080.95\n",
      "True Positives (Saved Customers): 183\n",
      "False Positives (Unnecessary Interventions): 32\n",
      "Profit improvement: $0.00 (0.00%)\n",
      "New profit: $388546.12\n"
     ]
    }
   ],
   "source": [
    "# If we found a better threshold, update and recompute binary predictions\n",
    "if optimal_threshold is not None and abs(optimal_threshold - best_threshold) > 0.01:\n",
    "    print(f\"Found better threshold! Updating from {best_threshold:.4f} to {optimal_threshold:.4f}\")\n",
    "    best_threshold = optimal_threshold\n",
    "    \n",
    "    # Save the new best threshold\n",
    "    s3_client = boto3.client('s3')\n",
    "    try:\n",
    "        # Save to S3 root\n",
    "        s3_buffer = io.BytesIO()\n",
    "        pickle.dump(best_threshold, s3_buffer)\n",
    "        s3_client.put_object(\n",
    "            Body=s3_buffer.getvalue(),\n",
    "            Bucket=bucket,\n",
    "            Key='best_threshold_new.pkl'\n",
    "        )\n",
    "        print(f\"Best threshold saved to S3: s3://{bucket}/best_threshold_new.pkl\")\n",
    "    except Exception as e:\n",
    "        print(f\"Error saving threshold to S3: {e}\")\n",
    "        # Save locally as fallback\n",
    "        with open('./best_threshold_new.pkl', 'wb') as f:\n",
    "            pickle.dump(best_threshold, f)\n",
    "        print(\"Best threshold saved locally as fallback\")\n",
    "    \n",
    "    # Update binary predictions with new threshold\n",
    "    predictions_binary = predictions['Churn'].apply(lambda x: 1 if x > best_threshold else 0)\n",
    "    \n",
    "    # Re-evaluate with new threshold\n",
    "    print(\"\\n===== Re-evaluating with optimal threshold =====\")\n",
    "    plot_confusion_matrix(test_labels, predictions_binary)\n",
    "    plot_roc(test_labels, predictions_binary)\n",
    "    _, new_profit = evaluate_profit_metrics(test_labels, predictions_binary)\n",
    "    \n",
    "    # Show profit improvement\n",
    "    print(f\"Profit improvement: ${new_profit - original_profit:.2f} ({((new_profit/original_profit)-1)*100:.2f}%)\")\n",
    "    print(f\"New profit: ${new_profit:.2f}\")"
   ]
  },
  {
   "cell_type": "markdown",
   "id": "db96353c",
   "metadata": {},
   "source": [
    "### Step 7: Model Metrics"
   ]
  },
  {
   "cell_type": "code",
   "execution_count": 39,
   "id": "9d64901c",
   "metadata": {},
   "outputs": [
    {
     "name": "stdout",
     "output_type": "stream",
     "text": [
      "F1 Score: 0.9104\n"
     ]
    }
   ],
   "source": [
    "# Calculate F1 score\n",
    "f1 = calculate_f1_score(test_labels, predictions_binary)\n",
    "print(f\"F1 Score: {f1:.4f}\")"
   ]
  },
  {
   "cell_type": "code",
   "execution_count": 40,
   "id": "8104ef9a",
   "metadata": {},
   "outputs": [
    {
     "name": "stdout",
     "output_type": "stream",
     "text": [
      "\n",
      "Precision-Recall Curve:\n"
     ]
    },
    {
     "data": {
      "image/png": "[encoded data removed]",
      "text/plain": [
       "<Figure size 1000x600 with 1 Axes>"
      ]
     },
     "metadata": {},
     "output_type": "display_data"
    }
   ],
   "source": [
    "# Precision-Recall curve\n",
    "print(\"\\nPrecision-Recall Curve:\")\n",
    "precision, recall, pr_thresholds = plot_precision_recall_curve(test_labels, predictions['Churn'])"
   ]
  },
  {
   "cell_type": "markdown",
   "id": "719a066d",
   "metadata": {},
   "source": [
    "# Section 4: Cleanup and Save Predictions"
   ]
  },
  {
   "cell_type": "markdown",
   "id": "5f6f9067",
   "metadata": {},
   "source": [
    "To add testing steps for Round 2"
   ]
  },
  {
   "cell_type": "markdown",
   "id": "fb62615c",
   "metadata": {},
   "source": [
    "### Step 1: Save predictions to local file and S3"
   ]
  },
  {
   "cell_type": "code",
   "execution_count": 41,
   "id": "ae6e7ee9",
   "metadata": {},
   "outputs": [],
   "source": [
    "# First, create a DataFrame with test data and predictions\n",
    "results_df = test.copy()\n",
    "\n",
    "# Reset index in predictions to make sure they align with test dataset\n",
    "predictions_aligned = pd.DataFrame({'Churn': predictions['Churn'].values[:len(test)]})\n",
    "predictions_binary_aligned = pd.Series(predictions_binary.values[:len(test)])\n",
    "\n",
    "# Assign the aligned predictions to the results dataframe\n",
    "results_df['prediction'] = predictions_aligned['Churn'].values\n",
    "results_df['prediction_binary'] = predictions_binary_aligned.values"
   ]
  },
  {
   "cell_type": "markdown",
   "id": "17ce43c6",
   "metadata": {},
   "source": [
    "Testing Diagnostics for Debugging"
   ]
  },
  {
   "cell_type": "code",
   "execution_count": 42,
   "id": "5dbaca13",
   "metadata": {},
   "outputs": [
    {
     "name": "stdout",
     "output_type": "stream",
     "text": [
      "\n",
      "RESULTS DATAFRAME INFO:\n",
      "Shape: (704, 32)\n",
      "Prediction non-null count: 704\n",
      "Binary prediction non-null count: 704\n",
      "First 5 rows of results:\n",
      "      Churn  ohe__Gender_Female  ohe__Gender_Male  contract_ord__Contract  \\\n",
      "5915      0                 1.0               0.0                1.467699   \n",
      "6940      0                 0.0               1.0                0.289021   \n",
      "1865      1                 0.0               1.0               -0.889657   \n",
      "1227      0                 1.0               0.0                0.289021   \n",
      "6368      0                 1.0               0.0                0.289021   \n",
      "\n",
      "      internet_ord__Internet Type  service_ord__Service_Level  scaler__Age  \\\n",
      "5915                    -0.628053                    1.487710    -0.627478   \n",
      "6940                    -1.451160                   -0.883133     0.029272   \n",
      "1865                     1.018161                   -0.883133    -0.388660   \n",
      "1227                    -0.628053                    0.302288    -0.866296   \n",
      "6368                    -0.628053                   -0.883133    -0.926000   \n",
      "\n",
      "      scaler__Avg Monthly GB Download  \\\n",
      "5915                        -0.074221   \n",
      "6940                        -1.004796   \n",
      "1865                        -0.319109   \n",
      "1227                         0.072712   \n",
      "6368                        -0.612975   \n",
      "\n",
      "      scaler__Avg Monthly Long Distance Charges  scaler__Number of Dependents  \\\n",
      "5915                                  -1.399555                     -0.486835   \n",
      "6940                                   0.549688                     -0.486835   \n",
      "1865                                   0.997671                     -0.486835   \n",
      "1227                                   0.511493                     -0.486835   \n",
      "6368                                   1.308411                     -0.486835   \n",
      "\n",
      "      ...  remainder__Phone Service  remainder__Premium Tech Support  \\\n",
      "5915  ...                       1.0                              1.0   \n",
      "6940  ...                       1.0                              0.0   \n",
      "1865  ...                       1.0                              0.0   \n",
      "1227  ...                       1.0                              1.0   \n",
      "6368  ...                       1.0                              0.0   \n",
      "\n",
      "      remainder__Streaming Movies  remainder__Streaming Music  \\\n",
      "5915                          1.0                         1.0   \n",
      "6940                          0.0                         0.0   \n",
      "1865                          0.0                         0.0   \n",
      "1227                          0.0                         0.0   \n",
      "6368                          0.0                         0.0   \n",
      "\n",
      "      remainder__Streaming TV  remainder__Unlimited Data  \\\n",
      "5915                      1.0                        1.0   \n",
      "6940                      0.0                        0.0   \n",
      "1865                      1.0                        1.0   \n",
      "1227                      0.0                        1.0   \n",
      "6368                      0.0                        1.0   \n",
      "\n",
      "      remainder__Refunds Awarded  remainder__Phone_Bundle  prediction  \\\n",
      "5915                         0.0                      1.0    0.017072   \n",
      "6940                         0.0                      0.0    0.020550   \n",
      "1865                         0.0                      0.0    0.958590   \n",
      "1227                         0.0                      0.0    0.015557   \n",
      "6368                         0.0                      0.0    0.015557   \n",
      "\n",
      "      prediction_binary  \n",
      "5915                  0  \n",
      "6940                  0  \n",
      "1865                  1  \n",
      "1227                  0  \n",
      "6368                  0  \n",
      "\n",
      "[5 rows x 32 columns]\n"
     ]
    }
   ],
   "source": [
    "# DIAGNOSTICS for Verify alignment succeeded\n",
    "print(f\"\\nRESULTS DATAFRAME INFO:\")\n",
    "print(f\"Shape: {results_df.shape}\")\n",
    "print(f\"Prediction non-null count: {results_df['prediction'].count()}\")\n",
    "print(f\"Binary prediction non-null count: {results_df['prediction_binary'].count()}\")\n",
    "print(f\"First 5 rows of results:\\n{results_df.head()}\")"
   ]
  },
  {
   "cell_type": "code",
   "execution_count": 43,
   "id": "3f8bef97",
   "metadata": {},
   "outputs": [
    {
     "name": "stdout",
     "output_type": "stream",
     "text": [
      "Predictions saved to local file: predictions_results.csv\n"
     ]
    }
   ],
   "source": [
    "# Save to local CSV\n",
    "local_predictions_file = 'predictions_results.csv'\n",
    "results_df.to_csv(local_predictions_file, index=False)\n",
    "print(f\"Predictions saved to local file: {local_predictions_file}\")"
   ]
  },
  {
   "cell_type": "code",
   "execution_count": 44,
   "id": "571b3f4f",
   "metadata": {},
   "outputs": [
    {
     "name": "stdout",
     "output_type": "stream",
     "text": [
      "Predictions saved to S3: s3://telco-churn-cp/folders/results/predictions_results.csv\n"
     ]
    }
   ],
   "source": [
    "# Save to S3\n",
    "s3_predictions_key = os.path.join(prefix, 'results/predictions_results.csv')\n",
    "csv_buffer = io.StringIO()\n",
    "results_df.to_csv(csv_buffer, index=False)\n",
    "s3_resource.Bucket(bucket).Object(s3_predictions_key).put(Body=csv_buffer.getvalue())\n",
    "print(f\"Predictions saved to S3: s3://{bucket}/{s3_predictions_key}\")"
   ]
  },
  {
   "cell_type": "markdown",
   "id": "31959b26",
   "metadata": {},
   "source": [
    "### Step 2: Lift and gain charts"
   ]
  },
  {
   "cell_type": "code",
   "execution_count": 45,
   "id": "c43a57b4",
   "metadata": {},
   "outputs": [
    {
     "name": "stdout",
     "output_type": "stream",
     "text": [
      "\n",
      "Lift and Gain Charts:\n"
     ]
    },
    {
     "data": {
      "image/png": "[encoded data removed]",
      "text/plain": [
       "<Figure size 1200x500 with 2 Axes>"
      ]
     },
     "metadata": {},
     "output_type": "display_data"
    }
   ],
   "source": [
    "# Step 2: Lift and gain charts\n",
    "print(\"\\nLift and Gain Charts:\")\n",
    "plot_lift_gain_chart(test_labels, predictions['Churn'])"
   ]
  },
  {
   "cell_type": "markdown",
   "id": "61a22bdd",
   "metadata": {},
   "source": [
    "### Step 3: Get best params from tuning job to use locally"
   ]
  },
  {
   "cell_type": "code",
   "execution_count": 46,
   "id": "32c99b33",
   "metadata": {},
   "outputs": [],
   "source": [
    "# Step 3: Get best params from tuning job to use locally\n",
    "best_params = {\n",
    "    'objective': 'binary:logistic',\n",
    "    'eval_metric': 'auc',  # Changed to AUC\n",
    "    'alpha': float(df_tuning_job_analytics.iloc[0]['alpha']),\n",
    "    'min_child_weight': float(df_tuning_job_analytics.iloc[0]['min_child_weight']),\n",
    "    'subsample': float(df_tuning_job_analytics.iloc[0]['subsample']),\n",
    "    'eta': float(df_tuning_job_analytics.iloc[0]['eta']), \n",
    "    'num_round': int(df_tuning_job_analytics.iloc[0]['num_round'])\n",
    "}"
   ]
  },
  {
   "cell_type": "markdown",
   "id": "d502c151",
   "metadata": {},
   "source": [
    "### Step 4: Save best parameters for future use"
   ]
  },
  {
   "cell_type": "code",
   "execution_count": 47,
   "id": "5d0e1811",
   "metadata": {},
   "outputs": [
    {
     "name": "stdout",
     "output_type": "stream",
     "text": [
      "Best parameters saved to best_params.json\n"
     ]
    }
   ],
   "source": [
    "# Step 4: Save best parameters for future use\n",
    "import json\n",
    "# Save locally\n",
    "with open('best_params.json', 'w') as f:\n",
    "    json.dump(best_params, f, indent=4)\n",
    "print(\"Best parameters saved to best_params.json\")"
   ]
  },
  {
   "cell_type": "code",
   "execution_count": 48,
   "id": "e50c52a0",
   "metadata": {},
   "outputs": [
    {
     "name": "stdout",
     "output_type": "stream",
     "text": [
      "Best parameters saved to s3://telco-churn-cp/folders/model/best_params.json\n"
     ]
    }
   ],
   "source": [
    "# Save to S3\n",
    "params_string = json.dumps(best_params, indent=4)\n",
    "s3_resource.Bucket(bucket).Object(os.path.join(prefix, 'model/best_params.json')).put(Body=params_string)\n",
    "print(f\"Best parameters saved to s3://{bucket}/{prefix}/model/best_params.json\")"
   ]
  },
  {
   "cell_type": "markdown",
   "id": "55c47310",
   "metadata": {},
   "source": [
    "### Step 5: Feature importance analysis"
   ]
  },
  {
   "cell_type": "code",
   "execution_count": 49,
   "id": "89dbb829",
   "metadata": {},
   "outputs": [],
   "source": [
    "#!pip install xgboost"
   ]
  },
  {
   "cell_type": "code",
   "execution_count": 50,
   "id": "ee8ea5bc",
   "metadata": {},
   "outputs": [
    {
     "name": "stdout",
     "output_type": "stream",
     "text": [
      "\n",
      "Feature Importance Analysis:\n"
     ]
    }
   ],
   "source": [
    "# Step 5: Feature importance analysis\n",
    "print(\"\\nFeature Importance Analysis:\")\n",
    "X_test = test.drop('Churn', axis=1)\n",
    "y_test = test['Churn']"
   ]
  },
  {
   "cell_type": "code",
   "execution_count": 51,
   "id": "87cb14f3",
   "metadata": {},
   "outputs": [
    {
     "data": {
      "image/png": "[encoded data removed]",
      "text/plain": [
       "<Figure size 1200x600 with 1 Axes>"
      ]
     },
     "metadata": {},
     "output_type": "display_data"
    },
    {
     "name": "stdout",
     "output_type": "stream",
     "text": [
      "Top 5 important features:\n",
      "                         Feature  Importance\n",
      "10    scaler__Satisfaction Score    0.778940\n",
      "11      scaler__Tenure in Months    0.094631\n",
      "2         contract_ord__Contract    0.060457\n",
      "5                    scaler__Age    0.026449\n",
      "8   scaler__Number of Dependents    0.015164\n"
     ]
    }
   ],
   "source": [
    "feat_importance = plot_feature_importance(X_test, y_test, best_params)\n",
    "print(\"Top 5 important features:\")\n",
    "print(feat_importance.head(5))"
   ]
  },
  {
   "cell_type": "markdown",
   "id": "ccfb0e8b",
   "metadata": {},
   "source": [
    "### Step 6: Partial dependence plots for top features"
   ]
  },
  {
   "cell_type": "code",
   "execution_count": 52,
   "id": "b2509deb",
   "metadata": {},
   "outputs": [
    {
     "name": "stdout",
     "output_type": "stream",
     "text": [
      "\n",
      "Partial Dependence Plots for Top Features:\n",
      "Generating partial dependence plots for: ['scaler__Satisfaction Score', 'scaler__Tenure in Months', 'contract_ord__Contract']\n"
     ]
    },
    {
     "data": {
      "image/png": "[encoded data removed]",
      "text/plain": [
       "<Figure size 1200x1200 with 4 Axes>"
      ]
     },
     "metadata": {},
     "output_type": "display_data"
    }
   ],
   "source": [
    "print(\"\\nPartial Dependence Plots for Top Features:\")\n",
    "try:\n",
    "    top_features = feat_importance['Feature'].head(3).tolist()\n",
    "    plot_partial_dependence(X_test, y_test, best_params, features=top_features)\n",
    "except Exception as e:\n",
    "    print(f\"Error in partial dependence plotting: {e}\")\n",
    "    print(\"Skipping partial dependence plots to continue with the rest of the analysis.\")"
   ]
  },
  {
   "cell_type": "markdown",
   "id": "823e23c4",
   "metadata": {},
   "source": [
    "### Step 7: Delete endpoint (only once)"
   ]
  },
  {
   "cell_type": "code",
   "execution_count": 53,
   "id": "9f334e6c",
   "metadata": {},
   "outputs": [
    {
     "name": "stdout",
     "output_type": "stream",
     "text": [
      "\n",
      "===== Cleanup: Delete Endpoint =====\n"
     ]
    },
    {
     "data": {
      "text/html": [
       "<pre style=\"white-space:pre;overflow-x:auto;line-height:normal;font-family:Menlo,'DejaVu Sans Mono',consolas,'Courier New',monospace\"><span style=\"color: #7fbfbf; text-decoration-color: #7fbfbf\">[04/07/25 00:25:15] </span><span style=\"color: #0069ff; text-decoration-color: #0069ff; font-weight: bold\">INFO    </span> Deleting endpoint configuration with name:                             <a href=\"file:///home/ec2-user/anaconda3/envs/python3/lib/python3.10/site-packages/sagemaker/session.py\" target=\"_blank\"><span style=\"color: #7f7f7f; text-decoration-color: #7f7f7f\">session.py</span></a><span style=\"color: #7f7f7f; text-decoration-color: #7f7f7f\">:</span><a href=\"file:///home/ec2-user/anaconda3/envs/python3/lib/python3.10/site-packages/sagemaker/session.py#4995\" target=\"_blank\"><span style=\"color: #7f7f7f; text-decoration-color: #7f7f7f\">4995</span></a>\n",
       "<span style=\"color: #7fbfbf; text-decoration-color: #7fbfbf\">                    </span>         sagemaker-xgboost-<span style=\"color: #008080; text-decoration-color: #008080; font-weight: bold\">2025</span>-04-07-00-21-15-358                              <span style=\"color: #7f7f7f; text-decoration-color: #7f7f7f\">               </span>\n",
       "</pre>\n"
      ],
      "text/plain": [
       "\u001b[2;36m[04/07/25 00:25:15]\u001b[0m\u001b[2;36m \u001b[0m\u001b[1;38;2;0;105;255mINFO    \u001b[0m Deleting endpoint configuration with name:                             \u001b]8;id=317990;file:///home/ec2-user/anaconda3/envs/python3/lib/python3.10/site-packages/sagemaker/session.py\u001b\\\u001b[2msession.py\u001b[0m\u001b]8;;\u001b\\\u001b[2m:\u001b[0m\u001b]8;id=291396;file:///home/ec2-user/anaconda3/envs/python3/lib/python3.10/site-packages/sagemaker/session.py#4995\u001b\\\u001b[2m4995\u001b[0m\u001b]8;;\u001b\\\n",
       "\u001b[2;36m                    \u001b[0m         sagemaker-xgboost-\u001b[1;36m2025\u001b[0m-04-07-00-21-15-358                              \u001b[2m               \u001b[0m\n"
      ]
     },
     "metadata": {},
     "output_type": "display_data"
    },
    {
     "data": {
      "text/html": [
       "<pre style=\"white-space:pre;overflow-x:auto;line-height:normal;font-family:Menlo,'DejaVu Sans Mono',consolas,'Courier New',monospace\"><span style=\"color: #7fbfbf; text-decoration-color: #7fbfbf\">                    </span><span style=\"color: #0069ff; text-decoration-color: #0069ff; font-weight: bold\">INFO    </span> Deleting endpoint with name: sagemaker-xgboost-<span style=\"color: #008080; text-decoration-color: #008080; font-weight: bold\">2025</span>-04-07-00-21-15-358 <a href=\"file:///home/ec2-user/anaconda3/envs/python3/lib/python3.10/site-packages/sagemaker/session.py\" target=\"_blank\"><span style=\"color: #7f7f7f; text-decoration-color: #7f7f7f\">session.py</span></a><span style=\"color: #7f7f7f; text-decoration-color: #7f7f7f\">:</span><a href=\"file:///home/ec2-user/anaconda3/envs/python3/lib/python3.10/site-packages/sagemaker/session.py#4985\" target=\"_blank\"><span style=\"color: #7f7f7f; text-decoration-color: #7f7f7f\">4985</span></a>\n",
       "</pre>\n"
      ],
      "text/plain": [
       "\u001b[2;36m                   \u001b[0m\u001b[2;36m \u001b[0m\u001b[1;38;2;0;105;255mINFO    \u001b[0m Deleting endpoint with name: sagemaker-xgboost-\u001b[1;36m2025\u001b[0m-04-07-00-21-15-358 \u001b]8;id=660045;file:///home/ec2-user/anaconda3/envs/python3/lib/python3.10/site-packages/sagemaker/session.py\u001b\\\u001b[2msession.py\u001b[0m\u001b]8;;\u001b\\\u001b[2m:\u001b[0m\u001b]8;id=427022;file:///home/ec2-user/anaconda3/envs/python3/lib/python3.10/site-packages/sagemaker/session.py#4985\u001b\\\u001b[2m4985\u001b[0m\u001b]8;;\u001b\\\n"
      ]
     },
     "metadata": {},
     "output_type": "display_data"
    },
    {
     "name": "stdout",
     "output_type": "stream",
     "text": [
      "Endpoint deleted successfully\n"
     ]
    }
   ],
   "source": [
    "# Step 7: Delete endpoint only once\n",
    "print(\"\\n===== Cleanup: Delete Endpoint =====\")\n",
    "try:\n",
    "    predictor.delete_endpoint(delete_endpoint_config=True)\n",
    "    print(\"Endpoint deleted successfully\")\n",
    "except Exception as e:\n",
    "    print(f\"Error deleting endpoint: {e}\")\n",
    "    endpoints = boto3.client('sagemaker').list_endpoints()\n",
    "    print(\"Active endpoints that may need manual cleanup:\")\n",
    "    for endpoint in endpoints['Endpoints']:\n",
    "        print(f\"  - {endpoint['EndpointName']}\")"
   ]
  },
  {
   "cell_type": "code",
   "execution_count": 54,
   "id": "509fc657",
   "metadata": {},
   "outputs": [
    {
     "name": "stdout",
     "output_type": "stream",
     "text": [
      "\n",
      "===== FINAL RESULTS SUMMARY =====\n",
      "Best Threshold: 0.19\n",
      "Final Profit: $388546.12\n",
      "AUC Score: 0.9959\n",
      "F1 Score: 0.9104\n",
      "Top 3 Features: ['scaler__Satisfaction Score', 'scaler__Tenure in Months', 'contract_ord__Contract']\n"
     ]
    }
   ],
   "source": [
    "# Add at the end of the script (before cleanup)\n",
    "print(\"\\n===== FINAL RESULTS SUMMARY =====\")\n",
    "print(f\"Best Threshold: {best_threshold}\")\n",
    "print(f\"Final Profit: ${profit:.2f}\")\n",
    "print(f\"AUC Score: {roc_auc_score(test_labels, predictions['Churn']):.4f}\")\n",
    "print(f\"F1 Score: {f1:.4f}\")\n",
    "print(f\"Top 3 Features: {top_features}\")"
   ]
  },
  {
   "cell_type": "markdown",
   "id": "40ebd7ec",
   "metadata": {},
   "source": [
    "### Step 8: Final cleanup check"
   ]
  },
  {
   "cell_type": "code",
   "execution_count": 55,
   "id": "cf3609d2",
   "metadata": {},
   "outputs": [
    {
     "name": "stdout",
     "output_type": "stream",
     "text": [
      "WARNING: You still have active endpoints that may incur charges:\n",
      "  - sagemaker-xgboost-2025-04-07-00-09-03-539\n",
      "Script execution completed\n"
     ]
    }
   ],
   "source": [
    "# Step 8: Final cleanup check\n",
    "try:\n",
    "    endpoints = boto3.client('sagemaker').list_endpoints()\n",
    "    if endpoints['Endpoints']:\n",
    "        print(\"WARNING: You still have active endpoints that may incur charges:\")\n",
    "        for endpoint in endpoints['Endpoints']:\n",
    "            print(f\"  - {endpoint['EndpointName']}\")\n",
    "    else:\n",
    "        print(\"No active endpoints found. Good job cleaning up!\")\n",
    "except Exception as e:\n",
    "    print(f\"Could not check for active endpoints: {e}\")\n",
    "    \n",
    "print(\"Script execution completed\")"
   ]
  },
  {
   "cell_type": "code",
   "execution_count": null,
   "id": "f83e2197",
   "metadata": {},
   "outputs": [],
   "source": []
  },
  {
   "cell_type": "code",
   "execution_count": null,
   "id": "1bfcd969",
   "metadata": {},
   "outputs": [],
   "source": []
  },
  {
   "cell_type": "code",
   "execution_count": null,
   "id": "b9cfec34",
   "metadata": {},
   "outputs": [],
   "source": []
  }
 ],
 "metadata": {
  "kernelspec": {
   "display_name": "conda_python3",
   "language": "python",
   "name": "conda_python3"
  },
  "language_info": {
   "codemirror_mode": {
    "name": "ipython",
    "version": 3
   },
   "file_extension": ".py",
   "mimetype": "text/x-python",
   "name": "python",
   "nbconvert_exporter": "python",
   "pygments_lexer": "ipython3",
   "version": "3.10.16"
  }
 },
 "nbformat": 4,
 "nbformat_minor": 5
}
